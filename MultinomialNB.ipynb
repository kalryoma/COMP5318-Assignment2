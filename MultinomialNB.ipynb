{
  "nbformat": 4,
  "nbformat_minor": 0,
  "metadata": {
    "colab": {
      "name": "NB.ipynb",
      "version": "0.3.2",
      "views": {},
      "default_view": {},
      "provenance": [],
      "collapsed_sections": []
    },
    "kernelspec": {
      "name": "python3",
      "display_name": "Python 3"
    },
    "accelerator": "GPU"
  },
  "cells": [
    {
      "metadata": {
        "id": "1AQCZtsl9zCO",
        "colab_type": "code",
        "colab": {
          "autoexec": {
            "startup": false,
            "wait_interval": 0
          }
        }
      },
      "cell_type": "code",
      "source": [
        "import keras\n",
        "from keras.datasets import cifar10\n",
        "(x_train, y_train), (x_test, y_test) = cifar10.load_data()"
      ],
      "execution_count": 0,
      "outputs": []
    },
    {
      "metadata": {
        "id": "O3RmjC8I-NE2",
        "colab_type": "code",
        "colab": {
          "autoexec": {
            "startup": false,
            "wait_interval": 0
          }
        }
      },
      "cell_type": "code",
      "source": [
        "import numpy as np\n",
        "import tensorflow as tf"
      ],
      "execution_count": 0,
      "outputs": []
    },
    {
      "metadata": {
        "id": "MDRb6uMq-RAF",
        "colab_type": "code",
        "colab": {
          "autoexec": {
            "startup": false,
            "wait_interval": 0
          }
        }
      },
      "cell_type": "code",
      "source": [
        "def normalization(images):\n",
        "    images = images.reshape(-1, 3072)\n",
        "    each_pixel_mean = images.mean(axis=0)\n",
        "    each_pixel_std = np.std(images, axis=0)\n",
        "    images = np.divide(np.subtract(images, each_pixel_mean), each_pixel_std)\n",
        "    return images.reshape(-1, 32, 32, 3)"
      ],
      "execution_count": 0,
      "outputs": []
    },
    {
      "metadata": {
        "id": "M49M9yDP-c9u",
        "colab_type": "code",
        "colab": {
          "autoexec": {
            "startup": false,
            "wait_interval": 0
          }
        }
      },
      "cell_type": "code",
      "source": [
        "training_images, training_labels = normalization(x_train), y_train\n",
        "test_images, test_labels = normalization(x_test), y_test"
      ],
      "execution_count": 0,
      "outputs": []
    },
    {
      "metadata": {
        "id": "bcYLpmEDGOqK",
        "colab_type": "code",
        "colab": {
          "autoexec": {
            "startup": false,
            "wait_interval": 0
          }
        }
      },
      "cell_type": "code",
      "source": [
        "from sklearn.naive_bayes import GaussianNB\n",
        "from sklearn.naive_bayes import MultinomialNB\n",
        "from sklearn.decomposition import PCA\n",
        "from sklearn.metrics import accuracy_score"
      ],
      "execution_count": 0,
      "outputs": []
    },
    {
      "metadata": {
        "id": "02z9__iE1VjD",
        "colab_type": "code",
        "colab": {
          "autoexec": {
            "startup": false,
            "wait_interval": 0
          }
        }
      },
      "cell_type": "code",
      "source": [
        "def reshapedata(training_images,test_images):\n",
        "    n_samples = len(training_images)\n",
        "    n_samples_test = len(test_images)\n",
        "    training_images = training_images.reshape((n_samples,-1))\n",
        "    test_images = test_images.reshape((n_samples_test,-1))\n",
        "    return training_images,test_images\n",
        "def applyPCA(trainingdata,ncomponents):\n",
        "    pca = PCA(ncomponents)\n",
        "    x_image = pca.fit_transform(trainingdata)\n",
        "    return x_image"
      ],
      "execution_count": 0,
      "outputs": []
    },
    {
      "metadata": {
        "id": "UnxnhKW1FXB3",
        "colab_type": "code",
        "colab": {
          "autoexec": {
            "startup": false,
            "wait_interval": 0
          },
          "base_uri": "https://localhost:8080/",
          "height": 73
        },
        "outputId": "202a5371-d8f2-4b6f-f86c-da83ec476355",
        "executionInfo": {
          "status": "ok",
          "timestamp": 1527948901736,
          "user_tz": -600,
          "elapsed": 2865,
          "user": {
            "displayName": "xiaoyun ma",
            "photoUrl": "https://lh3.googleusercontent.com/a/default-user=s128",
            "userId": "103440428659488544995"
          }
        }
      },
      "cell_type": "code",
      "source": [
        "#set PCA n_component=10\n",
        "def gaussianNB_chosed(training_images,training_labels,test_images,test_labels):\n",
        "    training_images,test_images=reshapedata(training_images,test_images)\n",
        "    training_images = applyPCA(training_images,10)\n",
        "    test_images = applyPCA(test_images,10)\n",
        "    clf = GaussianNB()\n",
        "    clf.fit(training_images, training_labels)\n",
        "    predict_label=clf.predict(test_images)\n",
        "    accuracy = accuracy_score(test_labels,predict_label)\n",
        "    return predict_label,accuracy\n",
        "\n",
        "predict_labels,accuracy = gaussianNB_chosed(training_images,training_labels,test_images,test_labels)"
      ],
      "execution_count": 20,
      "outputs": [
        {
          "output_type": "stream",
          "text": [
            "/usr/local/lib/python3.6/dist-packages/sklearn/utils/validation.py:578: DataConversionWarning: A column-vector y was passed when a 1d array was expected. Please change the shape of y to (n_samples, ), for example using ravel().\n",
            "  y = column_or_1d(y, warn=True)\n"
          ],
          "name": "stderr"
        }
      ]
    },
    {
      "metadata": {
        "id": "QmxPMGeu-H6m",
        "colab_type": "code",
        "colab": {
          "autoexec": {
            "startup": false,
            "wait_interval": 0
          }
        }
      },
      "cell_type": "code",
      "source": [
        "test_labels = y_test.T[0]"
      ],
      "execution_count": 0,
      "outputs": []
    },
    {
      "metadata": {
        "id": "y9PBXtnpLSSO",
        "colab_type": "code",
        "colab": {
          "autoexec": {
            "startup": false,
            "wait_interval": 0
          },
          "base_uri": "https://localhost:8080/",
          "height": 212
        },
        "outputId": "fbcc962c-9a17-4d47-ae0c-5164d01930f3",
        "executionInfo": {
          "status": "ok",
          "timestamp": 1527948908704,
          "user_tz": -600,
          "elapsed": 962,
          "user": {
            "displayName": "xiaoyun ma",
            "photoUrl": "https://lh3.googleusercontent.com/a/default-user=s128",
            "userId": "103440428659488544995"
          }
        }
      },
      "cell_type": "code",
      "source": [
        "\n",
        "def confusion_matrix(actual, predict):\n",
        "    cmatrix = np.zeros((10, 10)).astype(int)\n",
        "    for i in range(10000):\n",
        "        if actual[i] == predict[i]:\n",
        "            cmatrix[actual[i]][actual[i]] += 1\n",
        "        else:\n",
        "            cmatrix[actual[i]][predict[i]] += 1\n",
        "    return cmatrix\n",
        "\n",
        "cm = confusion_matrix(test_labels, predict_labels)\n",
        "print(cm)\n",
        "print(\"Accuracy = {:>6.4f}\".format(cm.diagonal().sum()*1.0/cm.sum()))"
      ],
      "execution_count": 22,
      "outputs": [
        {
          "output_type": "stream",
          "text": [
            "[[417  47  65  33  60  15  60  29 191  83]\n",
            " [ 59 277  47  41  66  43 107  55 115 190]\n",
            " [104  57 135  63 226  48 222  55  46  44]\n",
            " [ 37  81  95 140 134 156 162  99  22  74]\n",
            " [ 38  34  96  32 347  37 279  66  25  46]\n",
            " [ 36  51  85 117 109 286 150  91  29  46]\n",
            " [ 17  47  62  53 190  50 482  51   7  41]\n",
            " [ 37  54  65  62 180  80 138 217  39 128]\n",
            " [142  71  23  26  52  57  24  25 457 123]\n",
            " [ 47 130  40  28  71  29  60  63 128 404]]\n",
            "Accuracy = 0.3162\n"
          ],
          "name": "stdout"
        }
      ]
    },
    {
      "metadata": {
        "id": "N2yfBb2tOAGk",
        "colab_type": "code",
        "colab": {
          "autoexec": {
            "startup": false,
            "wait_interval": 0
          },
          "base_uri": "https://localhost:8080/",
          "height": 585
        },
        "outputId": "344f8628-1501-409e-f99a-84f534d6560d",
        "executionInfo": {
          "status": "ok",
          "timestamp": 1527948914204,
          "user_tz": -600,
          "elapsed": 2326,
          "user": {
            "displayName": "xiaoyun ma",
            "photoUrl": "https://lh3.googleusercontent.com/a/default-user=s128",
            "userId": "103440428659488544995"
          }
        }
      },
      "cell_type": "code",
      "source": [
        "import math\n",
        "import matplotlib.pyplot as plt\n",
        "import numpy as np\n",
        "import itertools\n",
        "%matplotlib inline\n",
        "\n",
        "def plot_confusion_matrix(cm, label_num):\n",
        "    labels = range(label_num)\n",
        "    plt.figure(figsize=(8,8))\n",
        "    plt.imshow(cm, interpolation='nearest', cmap=plt.cm.Blues)\n",
        "    plt.title('Confusion matrix')\n",
        "    plt.colorbar()\n",
        "    marks = np.arange(len(labels))\n",
        "    plt.xticks(marks, labels)\n",
        "    plt.yticks(marks, labels)\n",
        "    thresh = cm.max() / 2.\n",
        "    for i, j in itertools.product(range(cm.shape[0]), range(cm.shape[1])):\n",
        "        plt.text(j, i, int(cm[i, j]), fontsize=14,\n",
        "                 horizontalalignment=\"center\",\n",
        "                 color=\"white\" if cm[i, j] > thresh else \"black\")\n",
        "    plt.tight_layout()\n",
        "    plt.ylabel('Actual label')\n",
        "    plt.xlabel('Predicted label')\n",
        "    \n",
        "plot_confusion_matrix(cm, 10)"
      ],
      "execution_count": 23,
      "outputs": [
        {
          "output_type": "display_data",
          "data": {
            "image/png": "[encoded data removed]",
            "text/plain": [
              "<matplotlib.figure.Figure at 0x7f8e0a4c3c18>"
            ]
          },
          "metadata": {
            "tags": []
          }
        }
      ]
    },
    {
      "metadata": {
        "id": "U12eMZGLDJeI",
        "colab_type": "code",
        "colab": {
          "autoexec": {
            "startup": false,
            "wait_interval": 0
          },
          "base_uri": "https://localhost:8080/",
          "height": 230
        },
        "outputId": "65b4a86d-b1bc-48ed-bce8-dad81ab36962",
        "executionInfo": {
          "status": "ok",
          "timestamp": 1527948918274,
          "user_tz": -600,
          "elapsed": 859,
          "user": {
            "displayName": "xiaoyun ma",
            "photoUrl": "https://lh3.googleusercontent.com/a/default-user=s128",
            "userId": "103440428659488544995"
          }
        }
      },
      "cell_type": "code",
      "source": [
        "\n",
        "def evaluation(cmatrix):\n",
        "    print(\"|  Label  | Precision | Recall | F-Score |\")\n",
        "    total_p = 0\n",
        "    total_r = 0\n",
        "    total_f = 0\n",
        "    for i in range(10):\n",
        "        precision = cmatrix[i, i]*1.0/cmatrix[:, i].sum()\n",
        "        recall = cmatrix[i, i]*1.0/cmatrix[i, :].sum()\n",
        "        fscore = precision*recall*2.0/(precision+recall)\n",
        "        total_p += precision\n",
        "        total_r += recall\n",
        "        total_f += fscore\n",
        "        print('|{:>8d} | {:>9.4f} | {:>6.4f} | {:>7.4f} |'.format(i, precision, recall, fscore))\n",
        "    print('| Average | {:>9.4f} | {:>6.4f} | {:>7.4f} |'.format(total_p/10.0, total_r/10.0, total_f/10.0))\n",
        "\n",
        "evaluation(cm)"
      ],
      "execution_count": 24,
      "outputs": [
        {
          "output_type": "stream",
          "text": [
            "|  Label  | Precision | Recall | F-Score |\n",
            "|       0 |    0.4465 | 0.4170 |  0.4312 |\n",
            "|       1 |    0.3263 | 0.2770 |  0.2996 |\n",
            "|       2 |    0.1893 | 0.1350 |  0.1576 |\n",
            "|       3 |    0.2353 | 0.1400 |  0.1755 |\n",
            "|       4 |    0.2418 | 0.3470 |  0.2850 |\n",
            "|       5 |    0.3571 | 0.2860 |  0.3176 |\n",
            "|       6 |    0.2862 | 0.4820 |  0.3592 |\n",
            "|       7 |    0.2889 | 0.2170 |  0.2479 |\n",
            "|       8 |    0.4315 | 0.4570 |  0.4439 |\n",
            "|       9 |    0.3427 | 0.4040 |  0.3708 |\n",
            "| Average |    0.3146 | 0.3162 |  0.3088 |\n"
          ],
          "name": "stdout"
        }
      ]
    },
    {
      "metadata": {
        "id": "-WSbAJmdy6kP",
        "colab_type": "code",
        "colab": {
          "autoexec": {
            "startup": false,
            "wait_interval": 0
          },
          "base_uri": "https://localhost:8080/",
          "height": 607
        },
        "outputId": "d9b71dcd-0930-4a0c-d82b-c0edde4bf767",
        "executionInfo": {
          "status": "ok",
          "timestamp": 1527950262652,
          "user_tz": -600,
          "elapsed": 886,
          "user": {
            "displayName": "xiaoyun ma",
            "photoUrl": "https://lh3.googleusercontent.com/a/default-user=s128",
            "userId": "103440428659488544995"
          }
        }
      },
      "cell_type": "code",
      "source": [
        "#crossvalidation\n",
        "\n",
        "def evaluation(scores):\n",
        "    print(\"|Folder No.|   Score   |\")\n",
        "    scoreave = 0\n",
        "    for i in range(10):\n",
        "        thescore = scores[i]\n",
        "        scoreave = scoreave+scores[i]\n",
        "        print('|{:>9d} | {:>9.4f} |'.format(i, thescore))\n",
        "    print('| Average  | {:>9.4f} |'.format(scoreave/10.0))\n",
        "        \n",
        "from sklearn.model_selection import cross_val_score\n",
        "clf = GaussianNB()\n",
        "training_images,test_images = reshapedata(training_images,test_images)\n",
        "training_images = applyPCA(training_images,10)\n",
        "scores = cross_val_score(clf, training_images, training_labels, cv=10)\n",
        "\n",
        "evaluation(scores)"
      ],
      "execution_count": 34,
      "outputs": [
        {
          "output_type": "stream",
          "text": [
            "/usr/local/lib/python3.6/dist-packages/sklearn/utils/validation.py:578: DataConversionWarning: A column-vector y was passed when a 1d array was expected. Please change the shape of y to (n_samples, ), for example using ravel().\n",
            "  y = column_or_1d(y, warn=True)\n",
            "/usr/local/lib/python3.6/dist-packages/sklearn/utils/validation.py:578: DataConversionWarning: A column-vector y was passed when a 1d array was expected. Please change the shape of y to (n_samples, ), for example using ravel().\n",
            "  y = column_or_1d(y, warn=True)\n",
            "/usr/local/lib/python3.6/dist-packages/sklearn/utils/validation.py:578: DataConversionWarning: A column-vector y was passed when a 1d array was expected. Please change the shape of y to (n_samples, ), for example using ravel().\n",
            "  y = column_or_1d(y, warn=True)\n",
            "/usr/local/lib/python3.6/dist-packages/sklearn/utils/validation.py:578: DataConversionWarning: A column-vector y was passed when a 1d array was expected. Please change the shape of y to (n_samples, ), for example using ravel().\n",
            "  y = column_or_1d(y, warn=True)\n",
            "/usr/local/lib/python3.6/dist-packages/sklearn/utils/validation.py:578: DataConversionWarning: A column-vector y was passed when a 1d array was expected. Please change the shape of y to (n_samples, ), for example using ravel().\n",
            "  y = column_or_1d(y, warn=True)\n",
            "/usr/local/lib/python3.6/dist-packages/sklearn/utils/validation.py:578: DataConversionWarning: A column-vector y was passed when a 1d array was expected. Please change the shape of y to (n_samples, ), for example using ravel().\n",
            "  y = column_or_1d(y, warn=True)\n",
            "/usr/local/lib/python3.6/dist-packages/sklearn/utils/validation.py:578: DataConversionWarning: A column-vector y was passed when a 1d array was expected. Please change the shape of y to (n_samples, ), for example using ravel().\n",
            "  y = column_or_1d(y, warn=True)\n",
            "/usr/local/lib/python3.6/dist-packages/sklearn/utils/validation.py:578: DataConversionWarning: A column-vector y was passed when a 1d array was expected. Please change the shape of y to (n_samples, ), for example using ravel().\n",
            "  y = column_or_1d(y, warn=True)\n",
            "/usr/local/lib/python3.6/dist-packages/sklearn/utils/validation.py:578: DataConversionWarning: A column-vector y was passed when a 1d array was expected. Please change the shape of y to (n_samples, ), for example using ravel().\n",
            "  y = column_or_1d(y, warn=True)\n",
            "/usr/local/lib/python3.6/dist-packages/sklearn/utils/validation.py:578: DataConversionWarning: A column-vector y was passed when a 1d array was expected. Please change the shape of y to (n_samples, ), for example using ravel().\n",
            "  y = column_or_1d(y, warn=True)\n"
          ],
          "name": "stderr"
        },
        {
          "output_type": "stream",
          "text": [
            "|Folder No.|   Score   |\n",
            "|        0 |    0.3314 |\n",
            "|        1 |    0.3334 |\n",
            "|        2 |    0.3402 |\n",
            "|        3 |    0.3300 |\n",
            "|        4 |    0.3302 |\n",
            "|        5 |    0.3308 |\n",
            "|        6 |    0.3198 |\n",
            "|        7 |    0.3292 |\n",
            "|        8 |    0.3238 |\n",
            "|        9 |    0.3266 |\n",
            "| Average  |    0.3295 |\n"
          ],
          "name": "stdout"
        }
      ]
    },
    {
      "metadata": {
        "id": "mHnoOiDt6jC4",
        "colab_type": "code",
        "colab": {
          "autoexec": {
            "startup": false,
            "wait_interval": 0
          },
          "base_uri": "https://localhost:8080/",
          "height": 230
        },
        "outputId": "8aa12ee0-71f4-4281-fe45-1f20c8c66fb0",
        "executionInfo": {
          "status": "ok",
          "timestamp": 1527950240423,
          "user_tz": -600,
          "elapsed": 811,
          "user": {
            "displayName": "xiaoyun ma",
            "photoUrl": "https://lh3.googleusercontent.com/a/default-user=s128",
            "userId": "103440428659488544995"
          }
        }
      },
      "cell_type": "code",
      "source": [
        "def evaluation(scores):\n",
        "    print(\"|Folder No.|   Score   |\")\n",
        "    scoreave = 0\n",
        "    for i in range(10):\n",
        "        thescore = scores[i]\n",
        "        scoreave = scoreave+scores[i]\n",
        "        print('|{:>9d} | {:>9.4f} |'.format(i, thescore))\n",
        "    print('| Average  | {:>9.4f} |'.format(scoreave/10.0))\n",
        "    \n",
        "evaluation(scores)"
      ],
      "execution_count": 33,
      "outputs": [
        {
          "output_type": "stream",
          "text": [
            "|Folder No.|   Score   |\n",
            "|        0 |    0.3314 |\n",
            "|        1 |    0.3334 |\n",
            "|        2 |    0.3402 |\n",
            "|        3 |    0.3300 |\n",
            "|        4 |    0.3302 |\n",
            "|        5 |    0.3308 |\n",
            "|        6 |    0.3198 |\n",
            "|        7 |    0.3292 |\n",
            "|        8 |    0.3238 |\n",
            "|        9 |    0.3266 |\n",
            "| Average  |    0.3295 |\n"
          ],
          "name": "stdout"
        }
      ]
    }
  ]
}
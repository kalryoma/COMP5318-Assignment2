{
 "cells": [
  {
   "cell_type": "code",
   "execution_count": 1,
   "metadata": {
    "colab": {
     "autoexec": {
      "startup": false,
      "wait_interval": 0
     },
     "base_uri": "https://localhost:8080/",
     "height": 68
    },
    "colab_type": "code",
    "executionInfo": {
     "elapsed": 35415,
     "status": "ok",
     "timestamp": 1527909180561,
     "user": {
      "displayName": "Ryoma Kal",
      "photoUrl": "//lh4.googleusercontent.com/-JWPEkFRNgns/AAAAAAAAAAI/AAAAAAAAU7w/AzgYoaLwnfY/s50-c-k-no/photo.jpg",
      "userId": "112662731456692552658"
     },
     "user_tz": -600
    },
    "id": "UiBejDJXFnVV",
    "outputId": "bea3f606-2085-4c50-ce85-5c2f23f74299"
   },
   "outputs": [
    {
     "name": "stderr",
     "output_type": "stream",
     "text": [
      "/usr/local/lib/python3.6/site-packages/h5py/__init__.py:36: FutureWarning: Conversion of the second argument of issubdtype from `float` to `np.floating` is deprecated. In future, it will be treated as `np.float64 == np.dtype(float).type`.\n",
      "  from ._conv import register_converters as _register_converters\n",
      "Using TensorFlow backend.\n"
     ]
    },
    {
     "name": "stdout",
     "output_type": "stream",
     "text": [
      "Downloading data from https://www.cs.toronto.edu/~kriz/cifar-10-python.tar.gz\n",
      "170500096/170498071 [==============================] - 71s 0us/step\n"
     ]
    }
   ],
   "source": [
    "import keras\n",
    "from keras.datasets import cifar10\n",
    "(x_train, y_train), (x_test, y_test) = cifar10.load_data()"
   ]
  },
  {
   "cell_type": "code",
   "execution_count": 2,
   "metadata": {
    "colab": {
     "autoexec": {
      "startup": false,
      "wait_interval": 0
     }
    },
    "colab_type": "code",
    "id": "t3X7s3TKF360"
   },
   "outputs": [],
   "source": [
    "test_labels = y_test.T[0]\n",
    "y_train = keras.utils.to_categorical(y_train, 10)\n",
    "y_test = keras.utils.to_categorical(y_test, 10)"
   ]
  },
  {
   "cell_type": "code",
   "execution_count": 3,
   "metadata": {
    "colab": {
     "autoexec": {
      "startup": false,
      "wait_interval": 0
     }
    },
    "colab_type": "code",
    "id": "H6caHeDpG0gK"
   },
   "outputs": [],
   "source": [
    "train_pixels, one_hot_train_labels = x_train, y_train\n",
    "test_pixels, one_hot_test_labels = x_test, y_test"
   ]
  },
  {
   "cell_type": "code",
   "execution_count": 4,
   "metadata": {
    "colab": {
     "autoexec": {
      "startup": false,
      "wait_interval": 0
     }
    },
    "colab_type": "code",
    "id": "FBhiyxWqGHG1"
   },
   "outputs": [],
   "source": [
    "import numpy as np\n",
    "import tensorflow as tf"
   ]
  },
  {
   "cell_type": "code",
   "execution_count": 5,
   "metadata": {
    "colab": {
     "autoexec": {
      "startup": false,
      "wait_interval": 0
     }
    },
    "colab_type": "code",
    "id": "YBe9M8_PGXVq"
   },
   "outputs": [],
   "source": [
    "def new_batch():\n",
    "    train_index = 0\n",
    "    def get_batch(total_x, total_y, batch_size):\n",
    "        nonlocal train_index\n",
    "        num = total_x.shape[0]\n",
    "        start = train_index\n",
    "        train_index += batch_size\n",
    "        # shuffle training data when all data has been used\n",
    "        if train_index > num:\n",
    "            start = 0\n",
    "            train_index = batch_size\n",
    "            re_order = np.random.shuffle(np.arange(num))\n",
    "            total_x = total_x[re_order][0]\n",
    "            total_y = total_y[re_order][0]\n",
    "        end = train_index\n",
    "        return total_x[start:end], total_y[start:end]\n",
    "    return get_batch"
   ]
  },
  {
   "cell_type": "code",
   "execution_count": 6,
   "metadata": {
    "colab": {
     "autoexec": {
      "startup": false,
      "wait_interval": 0
     }
    },
    "colab_type": "code",
    "id": "PTUju1SBGYoh"
   },
   "outputs": [],
   "source": [
    "def conv2d_maxpool(x_tensor, conv_output_num):\n",
    "    W_shape = [3, 3] + [int(x_tensor.shape[3]), conv_output_num]\n",
    "    W = tf.Variable(tf.truncated_normal(W_shape, stddev=.05))\n",
    "    x = tf.nn.conv2d(x_tensor, W, strides=[1, 1, 1, 1], padding='SAME')\n",
    "    b = tf.Variable(tf.zeros([conv_output_num]))\n",
    "    x = tf.nn.bias_add(x, b)\n",
    "    x = tf.nn.relu(x)\n",
    "    return tf.nn.max_pool(x, ksize=[1,2,2,1], strides=[1,2,2,1], padding='SAME')\n",
    "\n",
    "def dense(x_tensor, output_num):\n",
    "    W = tf.Variable(tf.truncated_normal([int(x_tensor.shape[1]), output_num], stddev=.05))\n",
    "    b = tf.Variable(tf.zeros([output_num]))\n",
    "    return tf.add(tf.matmul(x_tensor, W), b)\n",
    "\n",
    "def CNN(x_tensor, keep_prob):\n",
    "    x = conv2d_maxpool(x_tensor, 64)\n",
    "    x = conv2d_maxpool(x, 128)\n",
    "    x = conv2d_maxpool(x, 256)\n",
    "    x = tf.nn.dropout(x, keep_prob)\n",
    "    x = tf.reshape(x, [-1, np.prod(x.shape.as_list()[1:])])\n",
    "    x = dense(x, 1024)\n",
    "    x = tf.nn.relu(x)\n",
    "    x = tf.nn.dropout(x, keep_prob)\n",
    "    x = dense(x, 512)\n",
    "    x = tf.nn.relu(x)\n",
    "    x = tf.nn.dropout(x, keep_prob)\n",
    "    return dense(x, 10)"
   ]
  },
  {
   "cell_type": "code",
   "execution_count": 7,
   "metadata": {
    "colab": {
     "autoexec": {
      "startup": false,
      "wait_interval": 0
     },
     "base_uri": "https://localhost:8080/",
     "height": 178
    },
    "colab_type": "code",
    "executionInfo": {
     "elapsed": 1100,
     "status": "ok",
     "timestamp": 1527909185699,
     "user": {
      "displayName": "Ryoma Kal",
      "photoUrl": "//lh4.googleusercontent.com/-JWPEkFRNgns/AAAAAAAAAAI/AAAAAAAAU7w/AzgYoaLwnfY/s50-c-k-no/photo.jpg",
      "userId": "112662731456692552658"
     },
     "user_tz": -600
    },
    "id": "KV5RflJYGeVB",
    "outputId": "026c4d0f-663d-4be5-f79b-04b8a2f34a2a"
   },
   "outputs": [
    {
     "name": "stdout",
     "output_type": "stream",
     "text": [
      "WARNING:tensorflow:From <ipython-input-7-e77a9af3bb89>:7: softmax_cross_entropy_with_logits (from tensorflow.python.ops.nn_ops) is deprecated and will be removed in a future version.\n",
      "Instructions for updating:\n",
      "\n",
      "Future major versions of TensorFlow will allow gradients to flow\n",
      "into the labels input on backprop by default.\n",
      "\n",
      "See @{tf.nn.softmax_cross_entropy_with_logits_v2}.\n",
      "\n"
     ]
    }
   ],
   "source": [
    "tf.reset_default_graph()\n",
    "x = tf.placeholder(tf.float32, [None, 32, 32, 3], name=\"x\")\n",
    "y = tf.placeholder(tf.float32, [None, 10], name=\"y\")\n",
    "keep_prob = tf.placeholder(tf.float32, name=\"keep_prob\")\n",
    "cifar10 = CNN(x, keep_prob)\n",
    "cifar10 = tf.identity(cifar10, name='cifar10')\n",
    "cost = tf.reduce_mean(tf.nn.softmax_cross_entropy_with_logits(logits=cifar10, labels=y))\n",
    "optimizer = tf.train.AdamOptimizer().minimize(cost)\n",
    "prediction = tf.argmax(cifar10, 1)\n",
    "correct_pred = tf.equal(prediction, tf.argmax(y, 1))\n",
    "accuracy = tf.reduce_mean(tf.cast(correct_pred, tf.float32), name='accuracy')"
   ]
  },
  {
   "cell_type": "code",
   "execution_count": 8,
   "metadata": {
    "colab": {
     "autoexec": {
      "startup": false,
      "wait_interval": 0
     }
    },
    "colab_type": "code",
    "id": "MXBBA4jiRYPN"
   },
   "outputs": [],
   "source": [
    "init = tf.global_variables_initializer()\n",
    "sess = tf.InteractiveSession()\n",
    "sess.run(init)\n",
    "epochs = 2900\n",
    "batch_size = 1024\n",
    "keepProb = 0.5\n",
    "iter_display = 1\n",
    "get_new_batch = new_batch()"
   ]
  },
  {
   "cell_type": "code",
   "execution_count": null,
   "metadata": {
    "colab": {
     "autoexec": {
      "startup": false,
      "wait_interval": 0
     },
     "base_uri": "https://localhost:8080/",
     "height": 833
    },
    "colab_type": "code",
    "executionInfo": {
     "elapsed": 648641,
     "status": "ok",
     "timestamp": 1527909835532,
     "user": {
      "displayName": "Ryoma Kal",
      "photoUrl": "//lh4.googleusercontent.com/-JWPEkFRNgns/AAAAAAAAAAI/AAAAAAAAU7w/AzgYoaLwnfY/s50-c-k-no/photo.jpg",
      "userId": "112662731456692552658"
     },
     "user_tz": -600
    },
    "id": "vV1J1intGfZU",
    "outputId": "03c46647-ab56-4bfd-cc90-8bb3c7bb9059"
   },
   "outputs": [
    {
     "name": "stdout",
     "output_type": "stream",
     "text": [
      "Epoch 0: training accuracy=0.11, test_accuracy=0.11\n",
      "Epoch 1: training accuracy=0.08, test_accuracy=0.11\n",
      "Epoch 2: training accuracy=0.12, test_accuracy=0.11\n",
      "Epoch 3: training accuracy=0.12, test_accuracy=0.12\n",
      "Epoch 4: training accuracy=0.13, test_accuracy=0.12\n",
      "Epoch 5: training accuracy=0.10, test_accuracy=0.12\n",
      "Epoch 6: training accuracy=0.13, test_accuracy=0.14\n",
      "Epoch 7: training accuracy=0.14, test_accuracy=0.14\n",
      "Epoch 8: training accuracy=0.14, test_accuracy=0.15\n",
      "Epoch 9: training accuracy=0.15, test_accuracy=0.16\n",
      "Epoch 10: training accuracy=0.17, test_accuracy=0.16\n",
      "Epoch 20: training accuracy=0.18, test_accuracy=0.16\n",
      "Epoch 30: training accuracy=0.18, test_accuracy=0.16\n",
      "Epoch 40: training accuracy=0.16, test_accuracy=0.16\n",
      "Epoch 50: training accuracy=0.23, test_accuracy=0.22\n",
      "Epoch 60: training accuracy=0.27, test_accuracy=0.26\n",
      "Epoch 70: training accuracy=0.33, test_accuracy=0.31\n",
      "Epoch 80: training accuracy=0.31, test_accuracy=0.33\n",
      "Epoch 90: training accuracy=0.37, test_accuracy=0.36\n",
      "Epoch 100: training accuracy=0.38, test_accuracy=0.37\n",
      "Epoch 200: training accuracy=0.47, test_accuracy=0.46\n",
      "Epoch 300: training accuracy=0.50, test_accuracy=0.53\n",
      "Epoch 400: training accuracy=0.58, test_accuracy=0.55\n",
      "Epoch 500: training accuracy=0.62, test_accuracy=0.60\n",
      "Epoch 600: training accuracy=0.67, test_accuracy=0.62\n",
      "Epoch 700: training accuracy=0.68, test_accuracy=0.63\n"
     ]
    }
   ],
   "source": [
    "for i in range(epochs):\n",
    "    batch_x, batch_y = get_new_batch(train_pixels, one_hot_train_labels, batch_size)\n",
    "    if (i % iter_display) == 0 or i == (epochs-1):\n",
    "        if (i == 10 or i == 100) and iter_display < 100:\n",
    "            iter_display *= 10\n",
    "        train_accuracy = accuracy.eval(feed_dict={x: batch_x, y: batch_y, keep_prob: 1.0})\n",
    "        test_accuracy = accuracy.eval(feed_dict={x: test_pixels, y: one_hot_test_labels, keep_prob: 1.0})\n",
    "        print('Epoch %d: training accuracy=%.2f, test_accuracy=%.2f' % (i, train_accuracy, test_accuracy))\n",
    "    sess.run(optimizer, feed_dict={x: batch_x, y: batch_y, keep_prob: keepProb})"
   ]
  },
  {
   "cell_type": "code",
   "execution_count": null,
   "metadata": {
    "colab": {
     "autoexec": {
      "startup": false,
      "wait_interval": 0
     },
     "base_uri": "https://localhost:8080/",
     "height": 187
    },
    "colab_type": "code",
    "executionInfo": {
     "elapsed": 1440,
     "status": "ok",
     "timestamp": 1527909837070,
     "user": {
      "displayName": "Ryoma Kal",
      "photoUrl": "//lh4.googleusercontent.com/-JWPEkFRNgns/AAAAAAAAAAI/AAAAAAAAU7w/AzgYoaLwnfY/s50-c-k-no/photo.jpg",
      "userId": "112662731456692552658"
     },
     "user_tz": -600
    },
    "id": "vFaGH7tEKh9y",
    "outputId": "c42bc5d0-ba0e-4730-f65d-8fb62f96af1e"
   },
   "outputs": [],
   "source": [
    "predict_labels = prediction.eval(feed_dict={x: test_pixels, y: one_hot_test_labels, keep_prob: 1.0})\n",
    "\n",
    "def confusion_matrix(actual, predict):\n",
    "    cmatrix = np.zeros((10, 10)).astype(int)\n",
    "    for i in range(10000):\n",
    "        if actual[i] == predict[i]:\n",
    "            cmatrix[actual[i]][actual[i]] += 1\n",
    "        else:\n",
    "            cmatrix[actual[i]][predict[i]] += 1\n",
    "    return cmatrix\n",
    "\n",
    "cm = confusion_matrix(test_labels, predict_labels)\n",
    "print(cm)"
   ]
  },
  {
   "cell_type": "code",
   "execution_count": null,
   "metadata": {
    "colab": {
     "autoexec": {
      "startup": false,
      "wait_interval": 0
     },
     "base_uri": "https://localhost:8080/",
     "height": 585
    },
    "colab_type": "code",
    "executionInfo": {
     "elapsed": 1528,
     "status": "ok",
     "timestamp": 1527910062863,
     "user": {
      "displayName": "Ryoma Kal",
      "photoUrl": "//lh4.googleusercontent.com/-JWPEkFRNgns/AAAAAAAAAAI/AAAAAAAAU7w/AzgYoaLwnfY/s50-c-k-no/photo.jpg",
      "userId": "112662731456692552658"
     },
     "user_tz": -600
    },
    "id": "hMYSNUs-RyZ_",
    "outputId": "41d8f7fc-edff-4b4a-bd3f-01222ecb6a18"
   },
   "outputs": [],
   "source": [
    "import math\n",
    "import matplotlib.pyplot as plt\n",
    "import numpy as np\n",
    "import itertools\n",
    "%matplotlib inline\n",
    "\n",
    "def plot_confusion_matrix(cm, label_num):\n",
    "    labels = range(label_num)\n",
    "    plt.figure(figsize=(8,8))\n",
    "    plt.imshow(cm, interpolation='nearest', cmap=plt.cm.Blues)\n",
    "    plt.title('Confusion matrix')\n",
    "    plt.colorbar()\n",
    "    marks = np.arange(len(labels))\n",
    "    plt.xticks(marks, labels)\n",
    "    plt.yticks(marks, labels)\n",
    "    thresh = cm.max() / 2.\n",
    "    for i, j in itertools.product(range(cm.shape[0]), range(cm.shape[1])):\n",
    "        plt.text(j, i, int(cm[i, j]), fontsize=14,\n",
    "                 horizontalalignment=\"center\",\n",
    "                 color=\"white\" if cm[i, j] > thresh else \"black\")\n",
    "    plt.tight_layout()\n",
    "    plt.ylabel('Actual label')\n",
    "    plt.xlabel('Predicted label')\n",
    "    \n",
    "plot_confusion_matrix(cm, 10)"
   ]
  },
  {
   "cell_type": "code",
   "execution_count": null,
   "metadata": {
    "colab": {
     "autoexec": {
      "startup": false,
      "wait_interval": 0
     }
    },
    "colab_type": "code",
    "id": "65lHzs9iSz6M"
   },
   "outputs": [],
   "source": [
    "sess.close()"
   ]
  }
 ],
 "metadata": {
  "accelerator": "GPU",
  "colab": {
   "collapsed_sections": [],
   "default_view": {},
   "name": "CIFAR10-CNN.ipynb",
   "provenance": [],
   "version": "0.3.2",
   "views": {}
  },
  "kernelspec": {
   "display_name": "Python 3",
   "language": "python",
   "name": "python3"
  },
  "language_info": {
   "codemirror_mode": {
    "name": "ipython",
    "version": 3
   },
   "file_extension": ".py",
   "mimetype": "text/x-python",
   "name": "python",
   "nbconvert_exporter": "python",
   "pygments_lexer": "ipython3",
   "version": "3.6.5"
  }
 },
 "nbformat": 4,
 "nbformat_minor": 1
}

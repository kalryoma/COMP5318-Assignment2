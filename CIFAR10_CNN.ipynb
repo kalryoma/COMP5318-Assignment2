{
  "nbformat": 4,
  "nbformat_minor": 0,
  "metadata": {
    "colab": {
      "name": "CIFAR10-CNN.ipynb",
      "version": "0.3.2",
      "views": {},
      "default_view": {},
      "provenance": [],
      "collapsed_sections": []
    },
    "kernelspec": {
      "name": "python3",
      "display_name": "Python 3"
    },
    "accelerator": "GPU"
  },
  "cells": [
    {
      "metadata": {
        "id": "UiBejDJXFnVV",
        "colab_type": "code",
        "colab": {
          "autoexec": {
            "startup": false,
            "wait_interval": 0
          },
          "base_uri": "https://localhost:8080/",
          "height": 34
        },
        "outputId": "ccaf6163-86c5-4ba0-8098-0298e20b283f",
        "executionInfo": {
          "status": "ok",
          "timestamp": 1527939347626,
          "user_tz": -600,
          "elapsed": 2045,
          "user": {
            "displayName": "Ryoma Kal",
            "photoUrl": "//lh4.googleusercontent.com/-JWPEkFRNgns/AAAAAAAAAAI/AAAAAAAAU7w/AzgYoaLwnfY/s50-c-k-no/photo.jpg",
            "userId": "112662731456692552658"
          }
        }
      },
      "cell_type": "code",
      "source": [
        "import keras\n",
        "from keras.datasets import cifar10\n",
        "(x_train, y_train), (x_test, y_test) = cifar10.load_data()"
      ],
      "execution_count": 1,
      "outputs": [
        {
          "output_type": "stream",
          "text": [
            "Using TensorFlow backend.\n"
          ],
          "name": "stderr"
        }
      ]
    },
    {
      "metadata": {
        "id": "t3X7s3TKF360",
        "colab_type": "code",
        "colab": {
          "autoexec": {
            "startup": false,
            "wait_interval": 0
          }
        }
      },
      "cell_type": "code",
      "source": [
        "test_labels = y_test.T[0]\n",
        "y_train = keras.utils.to_categorical(y_train, 10)\n",
        "y_test = keras.utils.to_categorical(y_test, 10)"
      ],
      "execution_count": 0,
      "outputs": []
    },
    {
      "metadata": {
        "id": "D5BwTsEawnbr",
        "colab_type": "code",
        "colab": {
          "autoexec": {
            "startup": false,
            "wait_interval": 0
          }
        }
      },
      "cell_type": "code",
      "source": [
        "import numpy as np\n",
        "import tensorflow as tf"
      ],
      "execution_count": 0,
      "outputs": []
    },
    {
      "metadata": {
        "id": "GgVu_pOltph1",
        "colab_type": "code",
        "colab": {
          "autoexec": {
            "startup": false,
            "wait_interval": 0
          }
        }
      },
      "cell_type": "code",
      "source": [
        "def normalization(images):\n",
        "    images = images.reshape(-1, 3072)\n",
        "    each_pixel_mean = images.mean(axis=0)\n",
        "    each_pixel_std = np.std(images, axis=0)\n",
        "    images = np.divide(np.subtract(images, each_pixel_mean), each_pixel_std)\n",
        "    return images.reshape(-1, 32, 32, 3)"
      ],
      "execution_count": 0,
      "outputs": []
    },
    {
      "metadata": {
        "id": "H6caHeDpG0gK",
        "colab_type": "code",
        "colab": {
          "autoexec": {
            "startup": false,
            "wait_interval": 0
          }
        }
      },
      "cell_type": "code",
      "source": [
        "train_pixels, one_hot_train_labels = normalization(x_train), y_train\n",
        "test_pixels, one_hot_test_labels = normalization(x_test), y_test"
      ],
      "execution_count": 0,
      "outputs": []
    },
    {
      "metadata": {
        "id": "YBe9M8_PGXVq",
        "colab_type": "code",
        "colab": {
          "autoexec": {
            "startup": false,
            "wait_interval": 0
          }
        }
      },
      "cell_type": "code",
      "source": [
        "def new_batch():\n",
        "    train_index = 0\n",
        "    def get_batch(total_x, total_y, batch_size):\n",
        "        nonlocal train_index\n",
        "        num = total_x.shape[0]\n",
        "        start = train_index\n",
        "        train_index += batch_size\n",
        "        # shuffle training data when all data has been used\n",
        "        if train_index > num:\n",
        "            start = 0\n",
        "            train_index = batch_size\n",
        "            re_order = np.random.shuffle(np.arange(num))\n",
        "            total_x = total_x[re_order][0]\n",
        "            total_y = total_y[re_order][0]\n",
        "        end = train_index\n",
        "        return total_x[start:end], total_y[start:end]\n",
        "    return get_batch"
      ],
      "execution_count": 0,
      "outputs": []
    },
    {
      "metadata": {
        "id": "PTUju1SBGYoh",
        "colab_type": "code",
        "colab": {
          "autoexec": {
            "startup": false,
            "wait_interval": 0
          }
        }
      },
      "cell_type": "code",
      "source": [
        "def conv2d_maxpool(x_tensor, conv_output_num):\n",
        "    W_shape = [3, 3] + [int(x_tensor.shape[3]), conv_output_num]\n",
        "    W = tf.Variable(tf.truncated_normal(W_shape, stddev=.05))\n",
        "    x = tf.nn.conv2d(x_tensor, W, strides=[1, 1, 1, 1], padding='SAME')\n",
        "    b = tf.Variable(tf.zeros([conv_output_num]))\n",
        "    x = tf.nn.bias_add(x, b)\n",
        "    x = tf.nn.relu(x)\n",
        "    return tf.nn.max_pool(x, ksize=[1,2,2,1], strides=[1,2,2,1], padding='SAME')\n",
        "\n",
        "def dense(x_tensor, output_num):\n",
        "    W = tf.Variable(tf.truncated_normal([int(x_tensor.shape[1]), output_num], stddev=.05))\n",
        "    b = tf.Variable(tf.zeros([output_num]))\n",
        "    return tf.add(tf.matmul(x_tensor, W), b)\n",
        "\n",
        "def CNN(x_tensor, keep_prob):\n",
        "    x = conv2d_maxpool(x_tensor, 64)\n",
        "    x = conv2d_maxpool(x, 128)\n",
        "    x = conv2d_maxpool(x, 256)\n",
        "    x = tf.nn.dropout(x, keep_prob)\n",
        "    x = tf.reshape(x, [-1, np.prod(x.shape.as_list()[1:])])\n",
        "    x = dense(x, 1024)\n",
        "    x = tf.nn.relu(x)\n",
        "    x = tf.nn.dropout(x, keep_prob)\n",
        "    x = dense(x, 512)\n",
        "    x = tf.nn.relu(x)\n",
        "    x = tf.nn.dropout(x, keep_prob)\n",
        "    return dense(x, 10)"
      ],
      "execution_count": 0,
      "outputs": []
    },
    {
      "metadata": {
        "id": "KV5RflJYGeVB",
        "colab_type": "code",
        "colab": {
          "autoexec": {
            "startup": false,
            "wait_interval": 0
          },
          "base_uri": "https://localhost:8080/",
          "height": 178
        },
        "outputId": "90bc5732-daf5-48ad-d9a8-f99037a6033c",
        "executionInfo": {
          "status": "ok",
          "timestamp": 1527939359531,
          "user_tz": -600,
          "elapsed": 1564,
          "user": {
            "displayName": "Ryoma Kal",
            "photoUrl": "//lh4.googleusercontent.com/-JWPEkFRNgns/AAAAAAAAAAI/AAAAAAAAU7w/AzgYoaLwnfY/s50-c-k-no/photo.jpg",
            "userId": "112662731456692552658"
          }
        }
      },
      "cell_type": "code",
      "source": [
        "tf.reset_default_graph()\n",
        "x = tf.placeholder(tf.float32, [None, 32, 32, 3], name=\"x\")\n",
        "y = tf.placeholder(tf.float32, [None, 10], name=\"y\")\n",
        "keep_prob = tf.placeholder(tf.float32, name=\"keep_prob\")\n",
        "cifar10 = CNN(x, keep_prob)\n",
        "cifar10 = tf.identity(cifar10, name='cifar10')\n",
        "cost = tf.reduce_mean(tf.nn.softmax_cross_entropy_with_logits(logits=cifar10, labels=y))\n",
        "optimizer = tf.train.AdamOptimizer().minimize(cost)\n",
        "prediction = tf.argmax(cifar10, 1)\n",
        "correct_pred = tf.equal(prediction, tf.argmax(y, 1))\n",
        "accuracy = tf.reduce_mean(tf.cast(correct_pred, tf.float32), name='accuracy')"
      ],
      "execution_count": 8,
      "outputs": [
        {
          "output_type": "stream",
          "text": [
            "WARNING:tensorflow:From <ipython-input-8-e77a9af3bb89>:7: softmax_cross_entropy_with_logits (from tensorflow.python.ops.nn_ops) is deprecated and will be removed in a future version.\n",
            "Instructions for updating:\n",
            "\n",
            "Future major versions of TensorFlow will allow gradients to flow\n",
            "into the labels input on backprop by default.\n",
            "\n",
            "See @{tf.nn.softmax_cross_entropy_with_logits_v2}.\n",
            "\n"
          ],
          "name": "stdout"
        }
      ]
    },
    {
      "metadata": {
        "id": "MXBBA4jiRYPN",
        "colab_type": "code",
        "colab": {
          "autoexec": {
            "startup": false,
            "wait_interval": 0
          }
        }
      },
      "cell_type": "code",
      "source": [
        "init = tf.global_variables_initializer()\n",
        "sess = tf.InteractiveSession()\n",
        "sess.run(init)\n",
        "epochs = 1901\n",
        "batch_size = 1024\n",
        "keepProb = 0.5\n",
        "iter_display = 1\n",
        "get_new_batch = new_batch()"
      ],
      "execution_count": 0,
      "outputs": []
    },
    {
      "metadata": {
        "id": "vV1J1intGfZU",
        "colab_type": "code",
        "colab": {
          "autoexec": {
            "startup": false,
            "wait_interval": 0
          },
          "base_uri": "https://localhost:8080/",
          "height": 663
        },
        "outputId": "680999a5-7a91-4db1-8675-db315a1c1ad8",
        "executionInfo": {
          "status": "ok",
          "timestamp": 1527939788286,
          "user_tz": -600,
          "elapsed": 427031,
          "user": {
            "displayName": "Ryoma Kal",
            "photoUrl": "//lh4.googleusercontent.com/-JWPEkFRNgns/AAAAAAAAAAI/AAAAAAAAU7w/AzgYoaLwnfY/s50-c-k-no/photo.jpg",
            "userId": "112662731456692552658"
          }
        }
      },
      "cell_type": "code",
      "source": [
        "for i in range(epochs):\n",
        "    batch_x, batch_y = get_new_batch(train_pixels, one_hot_train_labels, batch_size)\n",
        "    if (i % iter_display) == 0 or i == (epochs-1):\n",
        "        if (i == 10 or i == 100) and iter_display < 100:\n",
        "            iter_display *= 10\n",
        "        train_accuracy = accuracy.eval(feed_dict={x: batch_x, y: batch_y, keep_prob: 1.0})\n",
        "        test_accuracy = accuracy.eval(feed_dict={x: test_pixels, y: one_hot_test_labels, keep_prob: 1.0})\n",
        "        print('Epoch %d: training accuracy=%.2f, test_accuracy=%.2f' % (i, train_accuracy, test_accuracy))\n",
        "    sess.run(optimizer, feed_dict={x: batch_x, y: batch_y, keep_prob: keepProb})"
      ],
      "execution_count": 10,
      "outputs": [
        {
          "output_type": "stream",
          "text": [
            "Epoch 0: training accuracy=0.08, test_accuracy=0.08\n",
            "Epoch 1: training accuracy=0.13, test_accuracy=0.13\n",
            "Epoch 2: training accuracy=0.17, test_accuracy=0.16\n",
            "Epoch 3: training accuracy=0.19, test_accuracy=0.20\n",
            "Epoch 4: training accuracy=0.22, test_accuracy=0.21\n",
            "Epoch 5: training accuracy=0.21, test_accuracy=0.20\n",
            "Epoch 6: training accuracy=0.20, test_accuracy=0.20\n",
            "Epoch 7: training accuracy=0.19, test_accuracy=0.21\n",
            "Epoch 8: training accuracy=0.22, test_accuracy=0.21\n",
            "Epoch 9: training accuracy=0.23, test_accuracy=0.22\n",
            "Epoch 10: training accuracy=0.21, test_accuracy=0.22\n",
            "Epoch 20: training accuracy=0.31, test_accuracy=0.31\n",
            "Epoch 30: training accuracy=0.35, test_accuracy=0.37\n",
            "Epoch 40: training accuracy=0.41, test_accuracy=0.41\n",
            "Epoch 50: training accuracy=0.42, test_accuracy=0.42\n",
            "Epoch 60: training accuracy=0.45, test_accuracy=0.47\n",
            "Epoch 70: training accuracy=0.51, test_accuracy=0.50\n",
            "Epoch 80: training accuracy=0.49, test_accuracy=0.51\n",
            "Epoch 90: training accuracy=0.52, test_accuracy=0.54\n",
            "Epoch 100: training accuracy=0.55, test_accuracy=0.56\n",
            "Epoch 200: training accuracy=0.69, test_accuracy=0.66\n",
            "Epoch 300: training accuracy=0.72, test_accuracy=0.71\n",
            "Epoch 400: training accuracy=0.79, test_accuracy=0.74\n",
            "Epoch 500: training accuracy=0.84, test_accuracy=0.76\n",
            "Epoch 600: training accuracy=0.87, test_accuracy=0.77\n",
            "Epoch 700: training accuracy=0.90, test_accuracy=0.79\n",
            "Epoch 800: training accuracy=0.89, test_accuracy=0.78\n",
            "Epoch 900: training accuracy=0.91, test_accuracy=0.78\n",
            "Epoch 1000: training accuracy=0.94, test_accuracy=0.79\n",
            "Epoch 1100: training accuracy=0.95, test_accuracy=0.79\n",
            "Epoch 1200: training accuracy=0.97, test_accuracy=0.80\n",
            "Epoch 1300: training accuracy=0.97, test_accuracy=0.80\n",
            "Epoch 1400: training accuracy=0.99, test_accuracy=0.80\n",
            "Epoch 1500: training accuracy=0.99, test_accuracy=0.80\n",
            "Epoch 1600: training accuracy=0.99, test_accuracy=0.80\n",
            "Epoch 1700: training accuracy=1.00, test_accuracy=0.81\n",
            "Epoch 1800: training accuracy=1.00, test_accuracy=0.81\n",
            "Epoch 1900: training accuracy=1.00, test_accuracy=0.81\n"
          ],
          "name": "stdout"
        }
      ]
    },
    {
      "metadata": {
        "id": "mNjoW-uqPtt7",
        "colab_type": "code",
        "colab": {
          "autoexec": {
            "startup": false,
            "wait_interval": 0
          }
        }
      },
      "cell_type": "code",
      "source": [
        "predict_labels = prediction.eval(feed_dict={x: test_pixels, y: one_hot_test_labels, keep_prob: 1.0})"
      ],
      "execution_count": 0,
      "outputs": []
    },
    {
      "metadata": {
        "id": "vFaGH7tEKh9y",
        "colab_type": "code",
        "colab": {
          "autoexec": {
            "startup": false,
            "wait_interval": 0
          },
          "base_uri": "https://localhost:8080/",
          "height": 204
        },
        "outputId": "69899c42-1fed-4429-aa04-e75891bbadaa",
        "executionInfo": {
          "status": "ok",
          "timestamp": 1527939791610,
          "user_tz": -600,
          "elapsed": 1488,
          "user": {
            "displayName": "Ryoma Kal",
            "photoUrl": "//lh4.googleusercontent.com/-JWPEkFRNgns/AAAAAAAAAAI/AAAAAAAAU7w/AzgYoaLwnfY/s50-c-k-no/photo.jpg",
            "userId": "112662731456692552658"
          }
        }
      },
      "cell_type": "code",
      "source": [
        "def confusion_matrix(actual, predict):\n",
        "    cmatrix = np.zeros((10, 10)).astype(int)\n",
        "    for i in range(10000):\n",
        "        if actual[i] == predict[i]:\n",
        "            cmatrix[actual[i]][actual[i]] += 1\n",
        "        else:\n",
        "            cmatrix[actual[i]][predict[i]] += 1\n",
        "    return cmatrix\n",
        "\n",
        "cm = confusion_matrix(test_labels, predict_labels)\n",
        "print(cm)\n",
        "print(\"Accuracy = {:>6.4f}\".format(cm.diagonal().sum()*1.0/cm.sum()))"
      ],
      "execution_count": 12,
      "outputs": [
        {
          "output_type": "stream",
          "text": [
            "[[822  21  30  12   9   3   9   9  60  25]\n",
            " [  6 913   4   3   1   2   2   2  17  50]\n",
            " [ 52   3 744  30  58  27  57  16   8   5]\n",
            " [ 20  10  61 593  58 136  64  21  20  17]\n",
            " [ 12   4  63  40 768  17  50  35   8   3]\n",
            " [ 10   3  43 120  40 719  25  26   5   9]\n",
            " [  3   6  28  24  17  15 899   1   5   2]\n",
            " [ 10   5  23  23  42  44   8 833   3   9]\n",
            " [ 22  15   6   3   2   2   5   4 920  21]\n",
            " [ 20  51   4   5   1   3   6   3  20 887]]\n",
            "Accuracy = 0.8098\n"
          ],
          "name": "stdout"
        }
      ]
    },
    {
      "metadata": {
        "id": "hMYSNUs-RyZ_",
        "colab_type": "code",
        "colab": {
          "autoexec": {
            "startup": false,
            "wait_interval": 0
          },
          "base_uri": "https://localhost:8080/",
          "height": 585
        },
        "outputId": "ada58bd5-1a1b-4390-d842-7456f1f28c19",
        "executionInfo": {
          "status": "ok",
          "timestamp": 1527939793847,
          "user_tz": -600,
          "elapsed": 2153,
          "user": {
            "displayName": "Ryoma Kal",
            "photoUrl": "//lh4.googleusercontent.com/-JWPEkFRNgns/AAAAAAAAAAI/AAAAAAAAU7w/AzgYoaLwnfY/s50-c-k-no/photo.jpg",
            "userId": "112662731456692552658"
          }
        }
      },
      "cell_type": "code",
      "source": [
        "import math\n",
        "import matplotlib.pyplot as plt\n",
        "import numpy as np\n",
        "import itertools\n",
        "%matplotlib inline\n",
        "\n",
        "def plot_confusion_matrix(cm, label_num):\n",
        "    labels = range(label_num)\n",
        "    plt.figure(figsize=(8,8))\n",
        "    plt.imshow(cm, interpolation='nearest', cmap=plt.cm.Blues)\n",
        "    plt.title('Confusion matrix')\n",
        "    plt.colorbar()\n",
        "    marks = np.arange(len(labels))\n",
        "    plt.xticks(marks, labels)\n",
        "    plt.yticks(marks, labels)\n",
        "    thresh = cm.max() / 2.\n",
        "    for i, j in itertools.product(range(cm.shape[0]), range(cm.shape[1])):\n",
        "        plt.text(j, i, int(cm[i, j]), fontsize=14,\n",
        "                 horizontalalignment=\"center\",\n",
        "                 color=\"white\" if cm[i, j] > thresh else \"black\")\n",
        "    plt.tight_layout()\n",
        "    plt.ylabel('Actual label')\n",
        "    plt.xlabel('Predicted label')\n",
        "    \n",
        "plot_confusion_matrix(cm, 10)"
      ],
      "execution_count": 13,
      "outputs": [
        {
          "output_type": "display_data",
          "data": {
            "image/png": "[encoded data removed]",
            "text/plain": [
              "<matplotlib.figure.Figure at 0x7f7e46a5d860>"
            ]
          },
          "metadata": {
            "tags": []
          }
        }
      ]
    },
    {
      "metadata": {
        "id": "AVuqAsdfGrvv",
        "colab_type": "code",
        "colab": {
          "autoexec": {
            "startup": false,
            "wait_interval": 0
          },
          "base_uri": "https://localhost:8080/",
          "height": 221
        },
        "outputId": "df6a627f-6a65-4e8a-ae01-dd23486cfd99",
        "executionInfo": {
          "status": "ok",
          "timestamp": 1527939795390,
          "user_tz": -600,
          "elapsed": 1528,
          "user": {
            "displayName": "Ryoma Kal",
            "photoUrl": "//lh4.googleusercontent.com/-JWPEkFRNgns/AAAAAAAAAAI/AAAAAAAAU7w/AzgYoaLwnfY/s50-c-k-no/photo.jpg",
            "userId": "112662731456692552658"
          }
        }
      },
      "cell_type": "code",
      "source": [
        "def evaluation(cmatrix):\n",
        "    print(\"|  Label  | Precision | Recall | F-Score |\")\n",
        "    total_p = 0\n",
        "    total_r = 0\n",
        "    total_f = 0\n",
        "    for i in range(10):\n",
        "        precision = cmatrix[i, i]*1.0/cmatrix[:, i].sum()\n",
        "        recall = cmatrix[i, i]*1.0/cmatrix[i, :].sum()\n",
        "        fscore = precision*recall*2.0/(precision+recall)\n",
        "        total_p += precision\n",
        "        total_r += recall\n",
        "        total_f += fscore\n",
        "        print('|{:>8d} | {:>9.4f} | {:>6.4f} | {:>7.4f} |'.format(i, precision, recall, fscore))\n",
        "    print('| Average | {:>9.4f} | {:>6.4f} | {:>7.4f} |'.format(total_p/10.0, total_r/10.0, total_f/10.0))\n",
        "\n",
        "evaluation(cm)"
      ],
      "execution_count": 14,
      "outputs": [
        {
          "output_type": "stream",
          "text": [
            "|  Label  | Precision | Recall | F-Score |\n",
            "|       0 |    0.8414 | 0.8220 |  0.8316 |\n",
            "|       1 |    0.8855 | 0.9130 |  0.8991 |\n",
            "|       2 |    0.7396 | 0.7440 |  0.7418 |\n",
            "|       3 |    0.6952 | 0.5930 |  0.6400 |\n",
            "|       4 |    0.7711 | 0.7680 |  0.7695 |\n",
            "|       5 |    0.7428 | 0.7190 |  0.7307 |\n",
            "|       6 |    0.7991 | 0.8990 |  0.8461 |\n",
            "|       7 |    0.8768 | 0.8330 |  0.8544 |\n",
            "|       8 |    0.8630 | 0.9200 |  0.8906 |\n",
            "|       9 |    0.8628 | 0.8870 |  0.8748 |\n",
            "| Average |    0.8077 | 0.8098 |  0.8079 |\n"
          ],
          "name": "stdout"
        }
      ]
    },
    {
      "metadata": {
        "id": "65lHzs9iSz6M",
        "colab_type": "code",
        "colab": {
          "autoexec": {
            "startup": false,
            "wait_interval": 0
          }
        }
      },
      "cell_type": "code",
      "source": [
        "sess.close()"
      ],
      "execution_count": 0,
      "outputs": []
    }
  ]
}
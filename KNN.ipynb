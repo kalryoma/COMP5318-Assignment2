{
  "nbformat": 4,
  "nbformat_minor": 0,
  "metadata": {
    "colab": {
      "name": "KNN.ipynb",
      "version": "0.3.2",
      "views": {},
      "default_view": {},
      "provenance": []
    }
  },
  "cells": [
    {
      "metadata": {
        "id": "KYvowwkVuvcf",
        "colab_type": "code",
        "colab": {
          "autoexec": {
            "startup": false,
            "wait_interval": 0
          },
          "base_uri": "https://localhost:8080/",
          "height": 88
        },
        "outputId": "dbee1949-a28d-4357-88ad-94da965c3dbc",
        "executionInfo": {
          "status": "ok",
          "timestamp": 1527997423833,
          "user_tz": -600,
          "elapsed": 23573,
          "user": {
            "displayName": "xiaoyun ma",
            "photoUrl": "https://lh3.googleusercontent.com/a/default-user=s128",
            "userId": "103440428659488544995"
          }
        }
      },
      "cell_type": "code",
      "source": [
        "import keras\n",
        "from keras.datasets import cifar10\n",
        "(x_train, y_train), (x_test, y_test) = cifar10.load_data()"
      ],
      "execution_count": 1,
      "outputs": [
        {
          "output_type": "stream",
          "text": [
            "Using TensorFlow backend.\n"
          ],
          "name": "stderr"
        },
        {
          "output_type": "stream",
          "text": [
            "Downloading data from https://www.cs.toronto.edu/~kriz/cifar-10-python.tar.gz\n",
            "170500096/170498071 [==============================] - 18s 0us/step\n",
            "170508288/170498071 [==============================] - 18s 0us/step\n"
          ],
          "name": "stdout"
        }
      ]
    },
    {
      "metadata": {
        "id": "Ri0H5dw9uzgG",
        "colab_type": "code",
        "colab": {
          "autoexec": {
            "startup": false,
            "wait_interval": 0
          }
        }
      },
      "cell_type": "code",
      "source": [
        "import numpy as np\n",
        "import tensorflow as tf"
      ],
      "execution_count": 0,
      "outputs": []
    },
    {
      "metadata": {
        "id": "Q8ush5msu1GG",
        "colab_type": "code",
        "colab": {
          "autoexec": {
            "startup": false,
            "wait_interval": 0
          }
        }
      },
      "cell_type": "code",
      "source": [
        "def normalization(images):\n",
        "    images = images.reshape(-1, 3072)\n",
        "    each_pixel_mean = images.mean(axis=0)\n",
        "    each_pixel_std = np.std(images, axis=0)\n",
        "    images = np.divide(np.subtract(images, each_pixel_mean), each_pixel_std)\n",
        "    return images.reshape(-1, 32, 32, 3)"
      ],
      "execution_count": 0,
      "outputs": []
    },
    {
      "metadata": {
        "id": "IPYpTyvuu2us",
        "colab_type": "code",
        "colab": {
          "autoexec": {
            "startup": false,
            "wait_interval": 0
          }
        }
      },
      "cell_type": "code",
      "source": [
        "training_images, training_labels = normalization(x_train), y_train\n",
        "test_images, test_labels = normalization(x_test), y_test"
      ],
      "execution_count": 0,
      "outputs": []
    },
    {
      "metadata": {
        "id": "ECoPfe8Ku4XE",
        "colab_type": "code",
        "colab": {
          "autoexec": {
            "startup": false,
            "wait_interval": 0
          }
        }
      },
      "cell_type": "code",
      "source": [
        "from sklearn.decomposition import PCA\n",
        "from sklearn.metrics import accuracy_score\n",
        "from sklearn.neighbors import KNeighborsClassifier"
      ],
      "execution_count": 0,
      "outputs": []
    },
    {
      "metadata": {
        "id": "0v00OmgLu6Uu",
        "colab_type": "code",
        "colab": {
          "autoexec": {
            "startup": false,
            "wait_interval": 0
          }
        }
      },
      "cell_type": "code",
      "source": [
        "def reshapedata(training_images,test_images):\n",
        "    n_samples = len(training_images)\n",
        "    n_samples_test = len(test_images)\n",
        "    training_images = training_images.reshape((n_samples,-1))\n",
        "    test_images = test_images.reshape((n_samples_test,-1))\n",
        "    return training_images,test_images\n",
        "def applyPCA(trainingdata,ncomponents):\n",
        "    pca = PCA(ncomponents)\n",
        "    x_image = pca.fit_transform(trainingdata)\n",
        "    return x_image"
      ],
      "execution_count": 0,
      "outputs": []
    },
    {
      "metadata": {
        "id": "73OGtNL6u_rr",
        "colab_type": "code",
        "colab": {
          "autoexec": {
            "startup": false,
            "wait_interval": 0
          },
          "base_uri": "https://localhost:8080/",
          "height": 75
        },
        "outputId": "40f83a2d-c9a1-4a1d-c953-96262b85d156",
        "executionInfo": {
          "status": "ok",
          "timestamp": 1527997456222,
          "user_tz": -600,
          "elapsed": 24852,
          "user": {
            "displayName": "xiaoyun ma",
            "photoUrl": "https://lh3.googleusercontent.com/a/default-user=s128",
            "userId": "103440428659488544995"
          }
        }
      },
      "cell_type": "code",
      "source": [
        "#set PCA n_component = 13, n_neighbors = 59\n",
        "def knnclassifier_chosed(training_images,training_labels,test_images,test_labels):\n",
        "    training_images,test_images=reshapedata(training_images,test_images)\n",
        "    training_images = applyPCA(training_images,13)\n",
        "    test_images = applyPCA(test_images,13)\n",
        "    neigh = KNeighborsClassifier(59)\n",
        "    neigh.fit(training_images,training_labels)\n",
        "    predict_labels = neigh.predict(test_images)\n",
        "    accuracy = accuracy_score(test_labels, predict_labels)\n",
        "    return predict_labels, accuracy\n",
        "\n",
        "predict_labels, accuracy = knnclassifier_chosed(training_images,training_labels,test_images,test_labels)"
      ],
      "execution_count": 7,
      "outputs": [
        {
          "output_type": "stream",
          "text": [
            "/usr/local/lib/python2.7/dist-packages/ipykernel_launcher.py:6: DataConversionWarning: A column-vector y was passed when a 1d array was expected. Please change the shape of y to (n_samples, ), for example using ravel().\n",
            "  \n"
          ],
          "name": "stderr"
        }
      ]
    },
    {
      "metadata": {
        "id": "j5jK7VPMvEEr",
        "colab_type": "code",
        "colab": {
          "autoexec": {
            "startup": false,
            "wait_interval": 0
          }
        }
      },
      "cell_type": "code",
      "source": [
        "test_labels = y_test.T[0]"
      ],
      "execution_count": 0,
      "outputs": []
    },
    {
      "metadata": {
        "id": "7DEQXNqPvGFd",
        "colab_type": "code",
        "colab": {
          "autoexec": {
            "startup": false,
            "wait_interval": 0
          },
          "base_uri": "https://localhost:8080/",
          "height": 212
        },
        "outputId": "2b5bfdaa-f087-412b-b33d-4e14092c473d",
        "executionInfo": {
          "status": "ok",
          "timestamp": 1527997457763,
          "user_tz": -600,
          "elapsed": 714,
          "user": {
            "displayName": "xiaoyun ma",
            "photoUrl": "https://lh3.googleusercontent.com/a/default-user=s128",
            "userId": "103440428659488544995"
          }
        }
      },
      "cell_type": "code",
      "source": [
        "def confusion_matrix(actual, predict):\n",
        "    cmatrix = np.zeros((10, 10)).astype(int)\n",
        "    for i in range(10000):\n",
        "        if actual[i] == predict[i]:\n",
        "            cmatrix[actual[i]][actual[i]] += 1\n",
        "        else:\n",
        "            cmatrix[actual[i]][predict[i]] += 1\n",
        "    return cmatrix\n",
        "\n",
        "cm = confusion_matrix(test_labels, predict_labels)\n",
        "print(cm)\n",
        "print(\"Accuracy = {:>6.4f}\".format(cm.diagonal().sum()*1.0/cm.sum()))"
      ],
      "execution_count": 9,
      "outputs": [
        {
          "output_type": "stream",
          "text": [
            "[[492  33  74   8  53  10  51  41 202  36]\n",
            " [ 71 308  52  12 102  25 144  28 141 117]\n",
            " [138  25 288  37 169  24 192  59  36  32]\n",
            " [ 55  40 115 118 162 123 220  78  25  64]\n",
            " [ 50  17 195  17 367  20 206  71  37  20]\n",
            " [ 40  24 142  74 146 237 173  95  45  24]\n",
            " [ 36  11 142  22 179  31 479  53  12  35]\n",
            " [ 65  43  91  26 188  55 107 296  44  85]\n",
            " [115  63  30  24  42  38  23  28 564  73]\n",
            " [ 79 112  49  17  66  17  89  67 175 329]]\n",
            "Accuracy = 0.3478\n"
          ],
          "name": "stdout"
        }
      ]
    },
    {
      "metadata": {
        "id": "W_a67ADcvIKC",
        "colab_type": "code",
        "colab": {
          "autoexec": {
            "startup": false,
            "wait_interval": 0
          },
          "base_uri": "https://localhost:8080/",
          "height": 585
        },
        "outputId": "160e28bf-d90a-4261-8134-88dddc2535a5",
        "executionInfo": {
          "status": "ok",
          "timestamp": 1527997459556,
          "user_tz": -600,
          "elapsed": 1673,
          "user": {
            "displayName": "xiaoyun ma",
            "photoUrl": "https://lh3.googleusercontent.com/a/default-user=s128",
            "userId": "103440428659488544995"
          }
        }
      },
      "cell_type": "code",
      "source": [
        "import math\n",
        "import matplotlib.pyplot as plt\n",
        "import numpy as np\n",
        "import itertools\n",
        "%matplotlib inline\n",
        "\n",
        "def plot_confusion_matrix(cm, label_num):\n",
        "    labels = range(label_num)\n",
        "    plt.figure(figsize=(8,8))\n",
        "    plt.imshow(cm, interpolation='nearest', cmap=plt.cm.Blues)\n",
        "    plt.title('Confusion matrix')\n",
        "    plt.colorbar()\n",
        "    marks = np.arange(len(labels))\n",
        "    plt.xticks(marks, labels)\n",
        "    plt.yticks(marks, labels)\n",
        "    thresh = cm.max() / 2.\n",
        "    for i, j in itertools.product(range(cm.shape[0]), range(cm.shape[1])):\n",
        "        plt.text(j, i, int(cm[i, j]), fontsize=14,\n",
        "                 horizontalalignment=\"center\",\n",
        "                 color=\"white\" if cm[i, j] > thresh else \"black\")\n",
        "    plt.tight_layout()\n",
        "    plt.ylabel('Actual label')\n",
        "    plt.xlabel('Predicted label')\n",
        "    \n",
        "plot_confusion_matrix(cm, 10)"
      ],
      "execution_count": 10,
      "outputs": [
        {
          "output_type": "display_data",
          "data": {
            "image/png": "[encoded data removed]",
            "text/plain": [
              "<matplotlib.figure.Figure at 0x7fa7a70f41d0>"
            ]
          },
          "metadata": {
            "tags": []
          }
        }
      ]
    },
    {
      "metadata": {
        "id": "8oZkrzSDvX76",
        "colab_type": "code",
        "colab": {
          "autoexec": {
            "startup": false,
            "wait_interval": 0
          },
          "base_uri": "https://localhost:8080/",
          "height": 230
        },
        "outputId": "d6df519a-3b4d-4e98-d7c3-bac7b68861c8",
        "executionInfo": {
          "status": "ok",
          "timestamp": 1527997460449,
          "user_tz": -600,
          "elapsed": 853,
          "user": {
            "displayName": "xiaoyun ma",
            "photoUrl": "https://lh3.googleusercontent.com/a/default-user=s128",
            "userId": "103440428659488544995"
          }
        }
      },
      "cell_type": "code",
      "source": [
        "def evaluation(cmatrix):\n",
        "    print(\"|  Label  | Precision | Recall | F-Score |\")\n",
        "    total_p = 0\n",
        "    total_r = 0\n",
        "    total_f = 0\n",
        "    for i in range(10):\n",
        "        precision = cmatrix[i, i]*1.0/cmatrix[:, i].sum()\n",
        "        recall = cmatrix[i, i]*1.0/cmatrix[i, :].sum()\n",
        "        fscore = precision*recall*2.0/(precision+recall)\n",
        "        total_p += precision\n",
        "        total_r += recall\n",
        "        total_f += fscore\n",
        "        print('|{:>8d} | {:>9.4f} | {:>6.4f} | {:>7.4f} |'.format(i, precision, recall, fscore))\n",
        "    print('| Average | {:>9.4f} | {:>6.4f} | {:>7.4f} |'.format(total_p/10.0, total_r/10.0, total_f/10.0))\n",
        "\n",
        "evaluation(cm)"
      ],
      "execution_count": 11,
      "outputs": [
        {
          "output_type": "stream",
          "text": [
            "|  Label  | Precision | Recall | F-Score |\n",
            "|       0 |    0.4312 | 0.4920 |  0.4596 |\n",
            "|       1 |    0.4556 | 0.3080 |  0.3675 |\n",
            "|       2 |    0.2445 | 0.2880 |  0.2645 |\n",
            "|       3 |    0.3324 | 0.1180 |  0.1742 |\n",
            "|       4 |    0.2490 | 0.3670 |  0.2967 |\n",
            "|       5 |    0.4086 | 0.2370 |  0.3000 |\n",
            "|       6 |    0.2844 | 0.4790 |  0.3569 |\n",
            "|       7 |    0.3627 | 0.2960 |  0.3260 |\n",
            "|       8 |    0.4403 | 0.5640 |  0.4945 |\n",
            "|       9 |    0.4037 | 0.3290 |  0.3625 |\n",
            "| Average |    0.3612 | 0.3478 |  0.3402 |\n"
          ],
          "name": "stdout"
        }
      ]
    },
    {
      "metadata": {
        "id": "QR-wPhspvavP",
        "colab_type": "code",
        "colab": {
          "autoexec": {
            "startup": false,
            "wait_interval": 0
          },
          "base_uri": "https://localhost:8080/",
          "height": 287
        },
        "outputId": "35b86d0d-d4ed-469b-8d26-2679b44edc18",
        "executionInfo": {
          "status": "ok",
          "timestamp": 1527997506782,
          "user_tz": -600,
          "elapsed": 46193,
          "user": {
            "displayName": "xiaoyun ma",
            "photoUrl": "https://lh3.googleusercontent.com/a/default-user=s128",
            "userId": "103440428659488544995"
          }
        }
      },
      "cell_type": "code",
      "source": [
        "#crossvalidation\n",
        "\n",
        "def evaluation(scores):\n",
        "    print(\"|Folder No.|   Score   |\")\n",
        "    scoreave = 0\n",
        "    for i in range(10):\n",
        "        thescore = scores[i]\n",
        "        scoreave = scoreave+scores[i]\n",
        "        print('|{:>9d} | {:>9.4f} |'.format(i, thescore))\n",
        "    print('| Average  | {:>9.4f} |'.format(scoreave/10.0))\n",
        "        \n",
        "from sklearn.model_selection import cross_val_score\n",
        "clf = KNeighborsClassifier(59)\n",
        "training_images,test_images = reshapedata(training_images,test_images)\n",
        "training_images = applyPCA(training_images,13)\n",
        "scores = cross_val_score(clf, training_images, training_labels, cv=10)\n",
        "\n",
        "evaluation(scores)"
      ],
      "execution_count": 12,
      "outputs": [
        {
          "output_type": "stream",
          "text": [
            "/usr/local/lib/python2.7/dist-packages/sklearn/model_selection/_validation.py:458: DataConversionWarning: A column-vector y was passed when a 1d array was expected. Please change the shape of y to (n_samples, ), for example using ravel().\n",
            "  estimator.fit(X_train, y_train, **fit_params)\n"
          ],
          "name": "stderr"
        },
        {
          "output_type": "stream",
          "text": [
            "|Folder No.|   Score   |\n",
            "|        0 |    0.3930 |\n",
            "|        1 |    0.3800 |\n",
            "|        2 |    0.3878 |\n",
            "|        3 |    0.3732 |\n",
            "|        4 |    0.3890 |\n",
            "|        5 |    0.3808 |\n",
            "|        6 |    0.3726 |\n",
            "|        7 |    0.3766 |\n",
            "|        8 |    0.3846 |\n",
            "|        9 |    0.3798 |\n",
            "| Average  |    0.3817 |\n"
          ],
          "name": "stdout"
        }
      ]
    }
  ]
}
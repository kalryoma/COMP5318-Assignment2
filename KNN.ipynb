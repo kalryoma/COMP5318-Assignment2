{
  "nbformat": 4,
  "nbformat_minor": 0,
  "metadata": {
    "colab": {
      "name": "KNN.ipynb",
      "version": "0.3.2",
      "views": {},
      "default_view": {},
      "provenance": [],
      "collapsed_sections": []
    },
    "kernelspec": {
      "name": "python3",
      "display_name": "Python 3"
    },
    "accelerator": "GPU"
  },
  "cells": [
    {
      "metadata": {
        "id": "KYvowwkVuvcf",
        "colab_type": "code",
        "colab": {
          "autoexec": {
            "startup": false,
            "wait_interval": 0
          },
          "base_uri": "https://localhost:8080/",
          "height": 35
        },
        "outputId": "1d016bb5-504e-4441-ac46-5307d9a80e70",
        "executionInfo": {
          "status": "ok",
          "timestamp": 1527999668131,
          "user_tz": -600,
          "elapsed": 2676,
          "user": {
            "displayName": "xiaoyun ma",
            "photoUrl": "https://lh3.googleusercontent.com/a/default-user=s128",
            "userId": "103440428659488544995"
          }
        }
      },
      "cell_type": "code",
      "source": [
        "import keras\n",
        "from keras.datasets import cifar10\n",
        "(x_train, y_train), (x_test, y_test) = cifar10.load_data()"
      ],
      "execution_count": 1,
      "outputs": [
        {
          "output_type": "stream",
          "text": [
            "Using TensorFlow backend.\n"
          ],
          "name": "stderr"
        }
      ]
    },
    {
      "metadata": {
        "id": "Ri0H5dw9uzgG",
        "colab_type": "code",
        "colab": {
          "autoexec": {
            "startup": false,
            "wait_interval": 0
          }
        }
      },
      "cell_type": "code",
      "source": [
        "import numpy as np\n",
        "import tensorflow as tf"
      ],
      "execution_count": 0,
      "outputs": []
    },
    {
      "metadata": {
        "id": "Q8ush5msu1GG",
        "colab_type": "code",
        "colab": {
          "autoexec": {
            "startup": false,
            "wait_interval": 0
          }
        }
      },
      "cell_type": "code",
      "source": [
        "def normalization(images):\n",
        "    images = images.reshape(-1, 3072)\n",
        "    each_pixel_mean = images.mean(axis=0)\n",
        "    each_pixel_std = np.std(images, axis=0)\n",
        "    images = np.divide(np.subtract(images, each_pixel_mean), each_pixel_std)\n",
        "    return images.reshape(-1, 32, 32, 3)"
      ],
      "execution_count": 0,
      "outputs": []
    },
    {
      "metadata": {
        "id": "IPYpTyvuu2us",
        "colab_type": "code",
        "colab": {
          "autoexec": {
            "startup": false,
            "wait_interval": 0
          }
        }
      },
      "cell_type": "code",
      "source": [
        "training_images, training_labels = normalization(x_train), y_train\n",
        "test_images, test_labels = normalization(x_test), y_test"
      ],
      "execution_count": 0,
      "outputs": []
    },
    {
      "metadata": {
        "id": "ECoPfe8Ku4XE",
        "colab_type": "code",
        "colab": {
          "autoexec": {
            "startup": false,
            "wait_interval": 0
          }
        }
      },
      "cell_type": "code",
      "source": [
        "from sklearn.decomposition import PCA\n",
        "from sklearn.metrics import accuracy_score\n",
        "from sklearn.neighbors import KNeighborsClassifier"
      ],
      "execution_count": 0,
      "outputs": []
    },
    {
      "metadata": {
        "id": "0v00OmgLu6Uu",
        "colab_type": "code",
        "colab": {
          "autoexec": {
            "startup": false,
            "wait_interval": 0
          }
        }
      },
      "cell_type": "code",
      "source": [
        "def reshapedata(training_images,test_images):\n",
        "    n_samples = len(training_images)\n",
        "    n_samples_test = len(test_images)\n",
        "    training_images = training_images.reshape((n_samples,-1))\n",
        "    test_images = test_images.reshape((n_samples_test,-1))\n",
        "    return training_images,test_images\n",
        "def applyPCA(trainingdata,ncomponents):\n",
        "    pca = PCA(ncomponents)\n",
        "    x_image = pca.fit_transform(trainingdata)\n",
        "    return x_image"
      ],
      "execution_count": 0,
      "outputs": []
    },
    {
      "metadata": {
        "id": "73OGtNL6u_rr",
        "colab_type": "code",
        "colab": {
          "autoexec": {
            "startup": false,
            "wait_interval": 0
          },
          "base_uri": "https://localhost:8080/",
          "height": 75
        },
        "outputId": "b0644779-7a5b-4866-a4ad-b853aaec687a",
        "executionInfo": {
          "status": "ok",
          "timestamp": 1527999705361,
          "user_tz": -600,
          "elapsed": 28053,
          "user": {
            "displayName": "xiaoyun ma",
            "photoUrl": "https://lh3.googleusercontent.com/a/default-user=s128",
            "userId": "103440428659488544995"
          }
        }
      },
      "cell_type": "code",
      "source": [
        "#set PCA n_component = 13, n_neighbors = 59\n",
        "def knnclassifier_chosed(training_images,training_labels,test_images,test_labels):\n",
        "    training_images,test_images=reshapedata(training_images,test_images)\n",
        "    training_images = applyPCA(training_images,13)\n",
        "    test_images = applyPCA(test_images,13)\n",
        "    neigh = KNeighborsClassifier(59)\n",
        "    neigh.fit(training_images,training_labels)\n",
        "    predict_labels = neigh.predict(test_images)\n",
        "    accuracy = accuracy_score(test_labels, predict_labels)\n",
        "    return predict_labels, accuracy\n",
        "\n",
        "predict_labels, accuracy = knnclassifier_chosed(training_images,training_labels,test_images,test_labels)"
      ],
      "execution_count": 7,
      "outputs": [
        {
          "output_type": "stream",
          "text": [
            "/usr/local/lib/python3.6/dist-packages/ipykernel_launcher.py:6: DataConversionWarning: A column-vector y was passed when a 1d array was expected. Please change the shape of y to (n_samples, ), for example using ravel().\n",
            "  \n"
          ],
          "name": "stderr"
        }
      ]
    },
    {
      "metadata": {
        "id": "j5jK7VPMvEEr",
        "colab_type": "code",
        "colab": {
          "autoexec": {
            "startup": false,
            "wait_interval": 0
          }
        }
      },
      "cell_type": "code",
      "source": [
        "test_labels = y_test.T[0]"
      ],
      "execution_count": 0,
      "outputs": []
    },
    {
      "metadata": {
        "id": "7DEQXNqPvGFd",
        "colab_type": "code",
        "colab": {
          "autoexec": {
            "startup": false,
            "wait_interval": 0
          },
          "base_uri": "https://localhost:8080/",
          "height": 212
        },
        "outputId": "71118510-df9f-4f28-81d5-39bee8435c65",
        "executionInfo": {
          "status": "ok",
          "timestamp": 1527999707440,
          "user_tz": -600,
          "elapsed": 781,
          "user": {
            "displayName": "xiaoyun ma",
            "photoUrl": "https://lh3.googleusercontent.com/a/default-user=s128",
            "userId": "103440428659488544995"
          }
        }
      },
      "cell_type": "code",
      "source": [
        "def confusion_matrix(actual, predict):\n",
        "    cmatrix = np.zeros((10, 10)).astype(int)\n",
        "    for i in range(10000):\n",
        "        if actual[i] == predict[i]:\n",
        "            cmatrix[actual[i]][actual[i]] += 1\n",
        "        else:\n",
        "            cmatrix[actual[i]][predict[i]] += 1\n",
        "    return cmatrix\n",
        "\n",
        "cm = confusion_matrix(test_labels, predict_labels)\n",
        "print(cm)\n",
        "print(\"Accuracy = {:>6.4f}\".format(cm.diagonal().sum()*1.0/cm.sum()))"
      ],
      "execution_count": 9,
      "outputs": [
        {
          "output_type": "stream",
          "text": [
            "[[490  33  73   8  55  10  51  40 203  37]\n",
            " [ 72 307  51  12 102  25 146  29 141 115]\n",
            " [137  26 289  37 168  24 193  58  36  32]\n",
            " [ 56  41 115 121 161 122 220  78  23  63]\n",
            " [ 52  16 198  17 368  20 201  72  37  19]\n",
            " [ 41  24 141  75 145 236 174  94  45  25]\n",
            " [ 35  11 141  22 180  32 479  53  12  35]\n",
            " [ 65  42  93  25 188  56 106 296  44  85]\n",
            " [116  63  30  23  41  38  23  29 565  72]\n",
            " [ 76 110  50  17  66  17  90  69 173 332]]\n",
            "Accuracy = 0.3483\n"
          ],
          "name": "stdout"
        }
      ]
    },
    {
      "metadata": {
        "id": "W_a67ADcvIKC",
        "colab_type": "code",
        "colab": {
          "autoexec": {
            "startup": false,
            "wait_interval": 0
          },
          "base_uri": "https://localhost:8080/",
          "height": 585
        },
        "outputId": "22e73b1f-b803-4334-aa38-6ae0bcfb240b",
        "executionInfo": {
          "status": "ok",
          "timestamp": 1527999709262,
          "user_tz": -600,
          "elapsed": 1677,
          "user": {
            "displayName": "xiaoyun ma",
            "photoUrl": "https://lh3.googleusercontent.com/a/default-user=s128",
            "userId": "103440428659488544995"
          }
        }
      },
      "cell_type": "code",
      "source": [
        "import math\n",
        "import matplotlib.pyplot as plt\n",
        "import numpy as np\n",
        "import itertools\n",
        "%matplotlib inline\n",
        "\n",
        "def plot_confusion_matrix(cm, label_num):\n",
        "    labels = range(label_num)\n",
        "    plt.figure(figsize=(8,8))\n",
        "    plt.imshow(cm, interpolation='nearest', cmap=plt.cm.Blues)\n",
        "    plt.title('Confusion matrix')\n",
        "    plt.colorbar()\n",
        "    marks = np.arange(len(labels))\n",
        "    plt.xticks(marks, labels)\n",
        "    plt.yticks(marks, labels)\n",
        "    thresh = cm.max() / 2.\n",
        "    for i, j in itertools.product(range(cm.shape[0]), range(cm.shape[1])):\n",
        "        plt.text(j, i, int(cm[i, j]), fontsize=14,\n",
        "                 horizontalalignment=\"center\",\n",
        "                 color=\"white\" if cm[i, j] > thresh else \"black\")\n",
        "    plt.tight_layout()\n",
        "    plt.ylabel('Actual label')\n",
        "    plt.xlabel('Predicted label')\n",
        "    \n",
        "plot_confusion_matrix(cm, 10)"
      ],
      "execution_count": 10,
      "outputs": [
        {
          "output_type": "display_data",
          "data": {
            "image/png": "[encoded data removed]",
            "text/plain": [
              "<matplotlib.figure.Figure at 0x7fce695647b8>"
            ]
          },
          "metadata": {
            "tags": []
          }
        }
      ]
    },
    {
      "metadata": {
        "id": "8oZkrzSDvX76",
        "colab_type": "code",
        "colab": {
          "autoexec": {
            "startup": false,
            "wait_interval": 0
          },
          "base_uri": "https://localhost:8080/",
          "height": 230
        },
        "outputId": "0629af03-021d-487e-da4a-cfaedc746522",
        "executionInfo": {
          "status": "ok",
          "timestamp": 1527999710592,
          "user_tz": -600,
          "elapsed": 1142,
          "user": {
            "displayName": "xiaoyun ma",
            "photoUrl": "https://lh3.googleusercontent.com/a/default-user=s128",
            "userId": "103440428659488544995"
          }
        }
      },
      "cell_type": "code",
      "source": [
        "def evaluation(cmatrix):\n",
        "    print(\"|  Label  | Precision | Recall | F-Score |\")\n",
        "    total_p = 0\n",
        "    total_r = 0\n",
        "    total_f = 0\n",
        "    for i in range(10):\n",
        "        precision = cmatrix[i, i]*1.0/cmatrix[:, i].sum()\n",
        "        recall = cmatrix[i, i]*1.0/cmatrix[i, :].sum()\n",
        "        fscore = precision*recall*2.0/(precision+recall)\n",
        "        total_p += precision\n",
        "        total_r += recall\n",
        "        total_f += fscore\n",
        "        print('|{:>8d} | {:>9.4f} | {:>6.4f} | {:>7.4f} |'.format(i, precision, recall, fscore))\n",
        "    print('| Average | {:>9.4f} | {:>6.4f} | {:>7.4f} |'.format(total_p/10.0, total_r/10.0, total_f/10.0))\n",
        "\n",
        "evaluation(cm)"
      ],
      "execution_count": 11,
      "outputs": [
        {
          "output_type": "stream",
          "text": [
            "|  Label  | Precision | Recall | F-Score |\n",
            "|       0 |    0.4298 | 0.4900 |  0.4579 |\n",
            "|       1 |    0.4562 | 0.3070 |  0.3670 |\n",
            "|       2 |    0.2447 | 0.2890 |  0.2650 |\n",
            "|       3 |    0.3389 | 0.1210 |  0.1783 |\n",
            "|       4 |    0.2497 | 0.3680 |  0.2975 |\n",
            "|       5 |    0.4069 | 0.2360 |  0.2987 |\n",
            "|       6 |    0.2846 | 0.4790 |  0.3571 |\n",
            "|       7 |    0.3619 | 0.2960 |  0.3256 |\n",
            "|       8 |    0.4418 | 0.5650 |  0.4958 |\n",
            "|       9 |    0.4074 | 0.3320 |  0.3658 |\n",
            "| Average |    0.3622 | 0.3483 |  0.3409 |\n"
          ],
          "name": "stdout"
        }
      ]
    },
    {
      "metadata": {
        "id": "QR-wPhspvavP",
        "colab_type": "code",
        "colab": {
          "autoexec": {
            "startup": false,
            "wait_interval": 0
          },
          "base_uri": "https://localhost:8080/",
          "height": 607
        },
        "outputId": "8e135849-ed65-46b4-e391-8f31343fe4f2",
        "executionInfo": {
          "status": "ok",
          "timestamp": 1527999754367,
          "user_tz": -600,
          "elapsed": 43652,
          "user": {
            "displayName": "xiaoyun ma",
            "photoUrl": "https://lh3.googleusercontent.com/a/default-user=s128",
            "userId": "103440428659488544995"
          }
        }
      },
      "cell_type": "code",
      "source": [
        "#crossvalidation\n",
        "\n",
        "def evaluation(scores):\n",
        "    print(\"|Folder No.|   Score   |\")\n",
        "    scoreave = 0\n",
        "    for i in range(10):\n",
        "        thescore = scores[i]\n",
        "        scoreave = scoreave+scores[i]\n",
        "        print('|{:>9d} | {:>9.4f} |'.format(i, thescore))\n",
        "    print('| Average  | {:>9.4f} |'.format(scoreave/10.0))\n",
        "        \n",
        "from sklearn.model_selection import cross_val_score\n",
        "clf = KNeighborsClassifier(59)\n",
        "training_images,test_images = reshapedata(training_images,test_images)\n",
        "training_images = applyPCA(training_images,13)\n",
        "scores = cross_val_score(clf, training_images, training_labels, cv=10)\n",
        "\n",
        "evaluation(scores)"
      ],
      "execution_count": 12,
      "outputs": [
        {
          "output_type": "stream",
          "text": [
            "/usr/local/lib/python3.6/dist-packages/sklearn/model_selection/_validation.py:458: DataConversionWarning: A column-vector y was passed when a 1d array was expected. Please change the shape of y to (n_samples, ), for example using ravel().\n",
            "  estimator.fit(X_train, y_train, **fit_params)\n",
            "/usr/local/lib/python3.6/dist-packages/sklearn/model_selection/_validation.py:458: DataConversionWarning: A column-vector y was passed when a 1d array was expected. Please change the shape of y to (n_samples, ), for example using ravel().\n",
            "  estimator.fit(X_train, y_train, **fit_params)\n",
            "/usr/local/lib/python3.6/dist-packages/sklearn/model_selection/_validation.py:458: DataConversionWarning: A column-vector y was passed when a 1d array was expected. Please change the shape of y to (n_samples, ), for example using ravel().\n",
            "  estimator.fit(X_train, y_train, **fit_params)\n",
            "/usr/local/lib/python3.6/dist-packages/sklearn/model_selection/_validation.py:458: DataConversionWarning: A column-vector y was passed when a 1d array was expected. Please change the shape of y to (n_samples, ), for example using ravel().\n",
            "  estimator.fit(X_train, y_train, **fit_params)\n",
            "/usr/local/lib/python3.6/dist-packages/sklearn/model_selection/_validation.py:458: DataConversionWarning: A column-vector y was passed when a 1d array was expected. Please change the shape of y to (n_samples, ), for example using ravel().\n",
            "  estimator.fit(X_train, y_train, **fit_params)\n",
            "/usr/local/lib/python3.6/dist-packages/sklearn/model_selection/_validation.py:458: DataConversionWarning: A column-vector y was passed when a 1d array was expected. Please change the shape of y to (n_samples, ), for example using ravel().\n",
            "  estimator.fit(X_train, y_train, **fit_params)\n",
            "/usr/local/lib/python3.6/dist-packages/sklearn/model_selection/_validation.py:458: DataConversionWarning: A column-vector y was passed when a 1d array was expected. Please change the shape of y to (n_samples, ), for example using ravel().\n",
            "  estimator.fit(X_train, y_train, **fit_params)\n",
            "/usr/local/lib/python3.6/dist-packages/sklearn/model_selection/_validation.py:458: DataConversionWarning: A column-vector y was passed when a 1d array was expected. Please change the shape of y to (n_samples, ), for example using ravel().\n",
            "  estimator.fit(X_train, y_train, **fit_params)\n",
            "/usr/local/lib/python3.6/dist-packages/sklearn/model_selection/_validation.py:458: DataConversionWarning: A column-vector y was passed when a 1d array was expected. Please change the shape of y to (n_samples, ), for example using ravel().\n",
            "  estimator.fit(X_train, y_train, **fit_params)\n",
            "/usr/local/lib/python3.6/dist-packages/sklearn/model_selection/_validation.py:458: DataConversionWarning: A column-vector y was passed when a 1d array was expected. Please change the shape of y to (n_samples, ), for example using ravel().\n",
            "  estimator.fit(X_train, y_train, **fit_params)\n"
          ],
          "name": "stderr"
        },
        {
          "output_type": "stream",
          "text": [
            "|Folder No.|   Score   |\n",
            "|        0 |    0.3932 |\n",
            "|        1 |    0.3790 |\n",
            "|        2 |    0.3882 |\n",
            "|        3 |    0.3744 |\n",
            "|        4 |    0.3886 |\n",
            "|        5 |    0.3814 |\n",
            "|        6 |    0.3730 |\n",
            "|        7 |    0.3764 |\n",
            "|        8 |    0.3840 |\n",
            "|        9 |    0.3802 |\n",
            "| Average  |    0.3818 |\n"
          ],
          "name": "stdout"
        }
      ]
    }
  ]
}
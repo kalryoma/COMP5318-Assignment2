{
  "nbformat": 4,
  "nbformat_minor": 0,
  "metadata": {
    "colab": {
      "name": "Randomforest.ipynb",
      "version": "0.3.2",
      "views": {},
      "default_view": {},
      "provenance": [],
      "collapsed_sections": []
    },
    "kernelspec": {
      "name": "python3",
      "display_name": "Python 3"
    },
    "accelerator": "GPU"
  },
  "cells": [
    {
      "metadata": {
        "id": "yHtVLdpI18ly",
        "colab_type": "code",
        "colab": {
          "autoexec": {
            "startup": false,
            "wait_interval": 0
          },
          "base_uri": "https://localhost:8080/",
          "height": 35
        },
        "outputId": "7c983e63-1b77-4727-e1f0-1d04127e46be",
        "executionInfo": {
          "status": "ok",
          "timestamp": 1528001088307,
          "user_tz": -600,
          "elapsed": 2977,
          "user": {
            "displayName": "xiaoyun ma",
            "photoUrl": "https://lh3.googleusercontent.com/a/default-user=s128",
            "userId": "103440428659488544995"
          }
        }
      },
      "cell_type": "code",
      "source": [
        "import keras\n",
        "from keras.datasets import cifar10\n",
        "(x_train, y_train), (x_test, y_test) = cifar10.load_data()"
      ],
      "execution_count": 1,
      "outputs": [
        {
          "output_type": "stream",
          "text": [
            "Using TensorFlow backend.\n"
          ],
          "name": "stderr"
        }
      ]
    },
    {
      "metadata": {
        "id": "fF8R9ba418ci",
        "colab_type": "code",
        "colab": {
          "autoexec": {
            "startup": false,
            "wait_interval": 0
          }
        }
      },
      "cell_type": "code",
      "source": [
        "import numpy as np\n",
        "import tensorflow as tf"
      ],
      "execution_count": 0,
      "outputs": []
    },
    {
      "metadata": {
        "id": "Z3YBoSgt18Qr",
        "colab_type": "code",
        "colab": {
          "autoexec": {
            "startup": false,
            "wait_interval": 0
          }
        }
      },
      "cell_type": "code",
      "source": [
        "def normalization(images):\n",
        "    images = images.reshape(-1, 3072)\n",
        "    each_pixel_mean = images.mean(axis=0)\n",
        "    each_pixel_std = np.std(images, axis=0)\n",
        "    images = np.divide(np.subtract(images, each_pixel_mean), each_pixel_std)\n",
        "    return images.reshape(-1, 32, 32, 3)"
      ],
      "execution_count": 0,
      "outputs": []
    },
    {
      "metadata": {
        "id": "hoK8A_gy18I6",
        "colab_type": "code",
        "colab": {
          "autoexec": {
            "startup": false,
            "wait_interval": 0
          }
        }
      },
      "cell_type": "code",
      "source": [
        "images, training_labels = normalization(x_train), y_train\n",
        "test_image, test_labels = normalization(x_test), y_test"
      ],
      "execution_count": 0,
      "outputs": []
    },
    {
      "metadata": {
        "id": "5JDyTmDe17ra",
        "colab_type": "code",
        "colab": {
          "autoexec": {
            "startup": false,
            "wait_interval": 0
          }
        }
      },
      "cell_type": "code",
      "source": [
        "from sklearn.decomposition import PCA\n",
        "from sklearn.metrics import accuracy_score\n",
        "from sklearn.ensemble import RandomForestClassifier"
      ],
      "execution_count": 0,
      "outputs": []
    },
    {
      "metadata": {
        "id": "QnbmyFTQ13Ut",
        "colab_type": "code",
        "colab": {
          "autoexec": {
            "startup": false,
            "wait_interval": 0
          },
          "base_uri": "https://localhost:8080/",
          "height": 75
        },
        "outputId": "a9c3465f-862b-471f-a88a-044d5fdc7212",
        "executionInfo": {
          "status": "ok",
          "timestamp": 1528001155432,
          "user_tz": -600,
          "elapsed": 60419,
          "user": {
            "displayName": "xiaoyun ma",
            "photoUrl": "https://lh3.googleusercontent.com/a/default-user=s128",
            "userId": "103440428659488544995"
          }
        }
      },
      "cell_type": "code",
      "source": [
        "# max_depth=13,random_state=0,min_samples_split=20,n_estimators=32,min_samples_leaf=3\n",
        "n_training = len(images)\n",
        "n_test = len(test_image)\n",
        "images = images.reshape((n_training, 3072))\n",
        "test_image = test_image.reshape((n_test,3072))\n",
        "\n",
        "def ranforestclassfier(images,test_image,training_labels,test_labels):\n",
        "\n",
        "    clf = RandomForestClassifier(max_depth=13,random_state=0,min_samples_split=20,n_estimators=32,min_samples_leaf=3)\n",
        "    clf.fit(images, training_labels)\n",
        "    predict_labels = clf.predict(test_image)\n",
        "    accuracy = accuracy_score(test_labels, predict_labels)\n",
        "    return predict_labels, accuracy\n",
        "\n",
        "predict_labels, accuracy = ranforestclassfier(images,test_image,training_labels,test_labels)"
      ],
      "execution_count": 6,
      "outputs": [
        {
          "output_type": "stream",
          "text": [
            "/usr/local/lib/python3.6/dist-packages/ipykernel_launcher.py:9: DataConversionWarning: A column-vector y was passed when a 1d array was expected. Please change the shape of y to (n_samples,), for example using ravel().\n",
            "  if __name__ == '__main__':\n"
          ],
          "name": "stderr"
        }
      ]
    },
    {
      "metadata": {
        "id": "rcuK4SPV5365",
        "colab_type": "code",
        "colab": {
          "autoexec": {
            "startup": false,
            "wait_interval": 0
          }
        }
      },
      "cell_type": "code",
      "source": [
        "test_labels = y_test.T[0]"
      ],
      "execution_count": 0,
      "outputs": []
    },
    {
      "metadata": {
        "id": "4KcbJba25_1S",
        "colab_type": "code",
        "colab": {
          "autoexec": {
            "startup": false,
            "wait_interval": 0
          },
          "base_uri": "https://localhost:8080/",
          "height": 212
        },
        "outputId": "c10cef40-ad32-4ea2-aa21-abd6e50f4573",
        "executionInfo": {
          "status": "ok",
          "timestamp": 1528001156958,
          "user_tz": -600,
          "elapsed": 621,
          "user": {
            "displayName": "xiaoyun ma",
            "photoUrl": "https://lh3.googleusercontent.com/a/default-user=s128",
            "userId": "103440428659488544995"
          }
        }
      },
      "cell_type": "code",
      "source": [
        "def confusion_matrix(actual, predict):\n",
        "    cmatrix = np.zeros((10, 10)).astype(int)\n",
        "    for i in range(10000):\n",
        "        if actual[i] == predict[i]:\n",
        "            cmatrix[actual[i]][actual[i]] += 1\n",
        "        else:\n",
        "            cmatrix[actual[i]][predict[i]] += 1\n",
        "    return cmatrix\n",
        "\n",
        "cm = confusion_matrix(test_labels, predict_labels)\n",
        "print(cm)\n",
        "print(\"Accuracy = {:>6.4f}\".format(cm.diagonal().sum()*1.0/cm.sum()))"
      ],
      "execution_count": 8,
      "outputs": [
        {
          "output_type": "stream",
          "text": [
            "[[512  39  47  17  41  21  29  33 193  68]\n",
            " [ 24 513  19  32  23  38  50  31  60 210]\n",
            " [106  52 267  61 171  67 143  66  30  37]\n",
            " [ 56  50  53 203  90 188 176  78  25  81]\n",
            " [ 50  22 126  45 392  51 170  88  28  28]\n",
            " [ 31  28  73 137  89 385  99  85  29  44]\n",
            " [ 11  39  70  53 124  60 546  35  10  52]\n",
            " [ 43  43  34  55 118  83  59 424  32 109]\n",
            " [ 74  82  20  22  25  44  20  26 598  89]\n",
            " [ 45 150  15  31  22  27  31  43  83 553]]\n",
            "Accuracy = 0.4393\n"
          ],
          "name": "stdout"
        }
      ]
    },
    {
      "metadata": {
        "id": "PIkT2QLk6DzL",
        "colab_type": "code",
        "colab": {
          "autoexec": {
            "startup": false,
            "wait_interval": 0
          },
          "base_uri": "https://localhost:8080/",
          "height": 585
        },
        "outputId": "44388910-d103-4090-b703-574d537a532f",
        "executionInfo": {
          "status": "ok",
          "timestamp": 1528001158573,
          "user_tz": -600,
          "elapsed": 1515,
          "user": {
            "displayName": "xiaoyun ma",
            "photoUrl": "https://lh3.googleusercontent.com/a/default-user=s128",
            "userId": "103440428659488544995"
          }
        }
      },
      "cell_type": "code",
      "source": [
        "import math\n",
        "import matplotlib.pyplot as plt\n",
        "import numpy as np\n",
        "import itertools\n",
        "%matplotlib inline\n",
        "\n",
        "def plot_confusion_matrix(cm, label_num):\n",
        "    labels = range(label_num)\n",
        "    plt.figure(figsize=(8,8))\n",
        "    plt.imshow(cm, interpolation='nearest', cmap=plt.cm.Blues)\n",
        "    plt.title('Confusion matrix')\n",
        "    plt.colorbar()\n",
        "    marks = np.arange(len(labels))\n",
        "    plt.xticks(marks, labels)\n",
        "    plt.yticks(marks, labels)\n",
        "    thresh = cm.max() / 2.\n",
        "    for i, j in itertools.product(range(cm.shape[0]), range(cm.shape[1])):\n",
        "        plt.text(j, i, int(cm[i, j]), fontsize=14,\n",
        "                 horizontalalignment=\"center\",\n",
        "                 color=\"white\" if cm[i, j] > thresh else \"black\")\n",
        "    plt.tight_layout()\n",
        "    plt.ylabel('Actual label')\n",
        "    plt.xlabel('Predicted label')\n",
        "    \n",
        "plot_confusion_matrix(cm, 10)"
      ],
      "execution_count": 9,
      "outputs": [
        {
          "output_type": "display_data",
          "data": {
            "image/png": "[encoded data removed]",
            "text/plain": [
              "<matplotlib.figure.Figure at 0x7f42343e5780>"
            ]
          },
          "metadata": {
            "tags": []
          }
        }
      ]
    },
    {
      "metadata": {
        "id": "dritONvp6HXW",
        "colab_type": "code",
        "colab": {
          "autoexec": {
            "startup": false,
            "wait_interval": 0
          },
          "base_uri": "https://localhost:8080/",
          "height": 230
        },
        "outputId": "26e569c4-c4de-441e-db12-b201e0b4f95a",
        "executionInfo": {
          "status": "ok",
          "timestamp": 1528001159298,
          "user_tz": -600,
          "elapsed": 700,
          "user": {
            "displayName": "xiaoyun ma",
            "photoUrl": "https://lh3.googleusercontent.com/a/default-user=s128",
            "userId": "103440428659488544995"
          }
        }
      },
      "cell_type": "code",
      "source": [
        "def evaluation(cmatrix):\n",
        "    print(\"|  Label  | Precision | Recall | F-Score |\")\n",
        "    total_p = 0\n",
        "    total_r = 0\n",
        "    total_f = 0\n",
        "    for i in range(10):\n",
        "        precision = cmatrix[i, i]*1.0/cmatrix[:, i].sum()\n",
        "        recall = cmatrix[i, i]*1.0/cmatrix[i, :].sum()\n",
        "        fscore = precision*recall*2.0/(precision+recall)\n",
        "        total_p += precision\n",
        "        total_r += recall\n",
        "        total_f += fscore\n",
        "        print('|{:>8d} | {:>9.4f} | {:>6.4f} | {:>7.4f} |'.format(i, precision, recall, fscore))\n",
        "    print('| Average | {:>9.4f} | {:>6.4f} | {:>7.4f} |'.format(total_p/10.0, total_r/10.0, total_f/10.0))\n",
        "\n",
        "evaluation(cm)"
      ],
      "execution_count": 10,
      "outputs": [
        {
          "output_type": "stream",
          "text": [
            "|  Label  | Precision | Recall | F-Score |\n",
            "|       0 |    0.5378 | 0.5120 |  0.5246 |\n",
            "|       1 |    0.5039 | 0.5130 |  0.5084 |\n",
            "|       2 |    0.3688 | 0.2670 |  0.3097 |\n",
            "|       3 |    0.3095 | 0.2030 |  0.2452 |\n",
            "|       4 |    0.3580 | 0.3920 |  0.3742 |\n",
            "|       5 |    0.3994 | 0.3850 |  0.3921 |\n",
            "|       6 |    0.4127 | 0.5460 |  0.4701 |\n",
            "|       7 |    0.4664 | 0.4240 |  0.4442 |\n",
            "|       8 |    0.5496 | 0.5980 |  0.5728 |\n",
            "|       9 |    0.4351 | 0.5530 |  0.4870 |\n",
            "| Average |    0.4341 | 0.4393 |  0.4328 |\n"
          ],
          "name": "stdout"
        }
      ]
    },
    {
      "metadata": {
        "id": "cq5GTZf76KG7",
        "colab_type": "code",
        "colab": {
          "autoexec": {
            "startup": false,
            "wait_interval": 0
          },
          "base_uri": "https://localhost:8080/",
          "height": 607
        },
        "outputId": "62a57def-411e-48ee-9547-99cd399ea80b",
        "executionInfo": {
          "status": "ok",
          "timestamp": 1528001698195,
          "user_tz": -600,
          "elapsed": 538787,
          "user": {
            "displayName": "xiaoyun ma",
            "photoUrl": "https://lh3.googleusercontent.com/a/default-user=s128",
            "userId": "103440428659488544995"
          }
        }
      },
      "cell_type": "code",
      "source": [
        "#crossvalidation\n",
        "\n",
        "def evaluation(scores):\n",
        "    print(\"|Folder No.|   Score   |\")\n",
        "    scoreave = 0\n",
        "    for i in range(10):\n",
        "        thescore = scores[i]\n",
        "        scoreave = scoreave+scores[i]\n",
        "        print('|{:>9d} | {:>9.4f} |'.format(i, thescore))\n",
        "    print('| Average  | {:>9.4f} |'.format(scoreave/10.0))\n",
        "        \n",
        "from sklearn.model_selection import cross_val_score\n",
        "clf = RandomForestClassifier(max_depth=13,random_state=0,min_samples_split=20,n_estimators=32,min_samples_leaf=3)\n",
        "n_training = len(images)\n",
        "images = images.reshape((n_training, 3072))\n",
        "scores = cross_val_score(clf, images, training_labels, cv=10)\n",
        "\n",
        "evaluation(scores)"
      ],
      "execution_count": 11,
      "outputs": [
        {
          "output_type": "stream",
          "text": [
            "/usr/local/lib/python3.6/dist-packages/sklearn/model_selection/_validation.py:458: DataConversionWarning: A column-vector y was passed when a 1d array was expected. Please change the shape of y to (n_samples,), for example using ravel().\n",
            "  estimator.fit(X_train, y_train, **fit_params)\n",
            "/usr/local/lib/python3.6/dist-packages/sklearn/model_selection/_validation.py:458: DataConversionWarning: A column-vector y was passed when a 1d array was expected. Please change the shape of y to (n_samples,), for example using ravel().\n",
            "  estimator.fit(X_train, y_train, **fit_params)\n",
            "/usr/local/lib/python3.6/dist-packages/sklearn/model_selection/_validation.py:458: DataConversionWarning: A column-vector y was passed when a 1d array was expected. Please change the shape of y to (n_samples,), for example using ravel().\n",
            "  estimator.fit(X_train, y_train, **fit_params)\n",
            "/usr/local/lib/python3.6/dist-packages/sklearn/model_selection/_validation.py:458: DataConversionWarning: A column-vector y was passed when a 1d array was expected. Please change the shape of y to (n_samples,), for example using ravel().\n",
            "  estimator.fit(X_train, y_train, **fit_params)\n",
            "/usr/local/lib/python3.6/dist-packages/sklearn/model_selection/_validation.py:458: DataConversionWarning: A column-vector y was passed when a 1d array was expected. Please change the shape of y to (n_samples,), for example using ravel().\n",
            "  estimator.fit(X_train, y_train, **fit_params)\n",
            "/usr/local/lib/python3.6/dist-packages/sklearn/model_selection/_validation.py:458: DataConversionWarning: A column-vector y was passed when a 1d array was expected. Please change the shape of y to (n_samples,), for example using ravel().\n",
            "  estimator.fit(X_train, y_train, **fit_params)\n",
            "/usr/local/lib/python3.6/dist-packages/sklearn/model_selection/_validation.py:458: DataConversionWarning: A column-vector y was passed when a 1d array was expected. Please change the shape of y to (n_samples,), for example using ravel().\n",
            "  estimator.fit(X_train, y_train, **fit_params)\n",
            "/usr/local/lib/python3.6/dist-packages/sklearn/model_selection/_validation.py:458: DataConversionWarning: A column-vector y was passed when a 1d array was expected. Please change the shape of y to (n_samples,), for example using ravel().\n",
            "  estimator.fit(X_train, y_train, **fit_params)\n",
            "/usr/local/lib/python3.6/dist-packages/sklearn/model_selection/_validation.py:458: DataConversionWarning: A column-vector y was passed when a 1d array was expected. Please change the shape of y to (n_samples,), for example using ravel().\n",
            "  estimator.fit(X_train, y_train, **fit_params)\n",
            "/usr/local/lib/python3.6/dist-packages/sklearn/model_selection/_validation.py:458: DataConversionWarning: A column-vector y was passed when a 1d array was expected. Please change the shape of y to (n_samples,), for example using ravel().\n",
            "  estimator.fit(X_train, y_train, **fit_params)\n"
          ],
          "name": "stderr"
        },
        {
          "output_type": "stream",
          "text": [
            "|Folder No.|   Score   |\n",
            "|        0 |    0.4368 |\n",
            "|        1 |    0.4318 |\n",
            "|        2 |    0.4252 |\n",
            "|        3 |    0.4148 |\n",
            "|        4 |    0.4390 |\n",
            "|        5 |    0.4304 |\n",
            "|        6 |    0.4206 |\n",
            "|        7 |    0.4268 |\n",
            "|        8 |    0.4218 |\n",
            "|        9 |    0.4264 |\n",
            "| Average  |    0.4274 |\n"
          ],
          "name": "stdout"
        }
      ]
    }
  ]
}